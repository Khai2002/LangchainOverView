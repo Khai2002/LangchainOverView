{
 "cells": [
  {
   "cell_type": "code",
   "execution_count": 1,
   "id": "initial_id",
   "metadata": {
    "collapsed": true,
    "ExecuteTime": {
     "end_time": "2024-04-30T08:29:52.258897800Z",
     "start_time": "2024-04-30T08:29:43.693891400Z"
    }
   },
   "outputs": [
    {
     "data": {
      "text/plain": "True"
     },
     "execution_count": 1,
     "metadata": {},
     "output_type": "execute_result"
    }
   ],
   "source": [
    "from dotenv import load_dotenv\n",
    "import pandas as pd\n",
    "\n",
    "from langchain_openai import ChatOpenAI\n",
    "from langchain.agents.agent_types import AgentType\n",
    "from langchain_experimental.agents.agent_toolkits import create_pandas_dataframe_agent\n",
    "\n",
    "load_dotenv()"
   ]
  },
  {
   "cell_type": "code",
   "execution_count": 10,
   "outputs": [],
   "source": [
    "df = pd.read_parquet(\"anime.parquet\")"
   ],
   "metadata": {
    "collapsed": false,
    "ExecuteTime": {
     "end_time": "2024-04-30T08:34:48.865321200Z",
     "start_time": "2024-04-30T08:34:48.710029600Z"
    }
   },
   "id": "3fc7ddc7b1a3b87b"
  },
  {
   "cell_type": "code",
   "execution_count": 27,
   "outputs": [],
   "source": [
    "agent = create_pandas_dataframe_agent(\n",
    "    ChatOpenAI(temperature=0, model=\"gpt-3.5-turbo-0613\"),\n",
    "    df,\n",
    "    verbose=True,\n",
    "    agent_type=AgentType.OPENAI_FUNCTIONS,\n",
    ")"
   ],
   "metadata": {
    "collapsed": false,
    "ExecuteTime": {
     "end_time": "2024-04-30T08:50:06.292065400Z",
     "start_time": "2024-04-30T08:50:05.246116500Z"
    }
   },
   "id": "4a2a45ae9ef34305"
  },
  {
   "cell_type": "code",
   "execution_count": 29,
   "outputs": [
    {
     "name": "stdout",
     "output_type": "stream",
     "text": [
      "\n",
      "\n",
      "\u001B[1m> Entering new AgentExecutor chain...\u001B[0m\n",
      "\u001B[32;1m\u001B[1;3m\n",
      "Invoking: `python_repl_ast` with `{'query': \"df[df['Name'] == 'One Piece']['anime_id'].values[0]\"}`\n",
      "\n",
      "\n",
      "\u001B[0m\u001B[36;1m\u001B[1;3m21\u001B[0m\u001B[32;1m\u001B[1;3mThe ID of One Piece in the dataframe is 21.\u001B[0m\n",
      "\n",
      "\u001B[1m> Finished chain.\u001B[0m\n"
     ]
    },
    {
     "data": {
      "text/plain": "{'input': 'What is the ID of One Piece in the dataframe?',\n 'output': 'The ID of One Piece in the dataframe is 21.'}"
     },
     "execution_count": 29,
     "metadata": {},
     "output_type": "execute_result"
    }
   ],
   "source": [
    "agent.invoke(\"What is the ID of One Piece in the dataframe?\")"
   ],
   "metadata": {
    "collapsed": false,
    "ExecuteTime": {
     "end_time": "2024-04-30T08:50:42.425111900Z",
     "start_time": "2024-04-30T08:50:39.572093100Z"
    }
   },
   "id": "b02d5f9709cd09d7"
  },
  {
   "cell_type": "code",
   "execution_count": 17,
   "outputs": [
    {
     "data": {
      "text/plain": "    anime_id       Name English name Other name  Score  \\\n11        21  One Piece    One Piece  ONE PIECE   8.69   \n\n                        Genres  \\\n11  Action, Adventure, Fantasy   \n\n                                             Synopsis Type Episodes  \\\n11  Gol D. Roger was known as the \"Pirate King,\" t...   TV  UNKNOWN   \n\n                Aired  Premiered            Status         Studios Source  \\\n11  Oct 20, 1999 to ?  fall 1999  Currently Airing  Toei Animation  Manga   \n\n   Duration                     Rating  Rank  Popularity  Favorites  \\\n11   24 min  PG-13 - Teens 13 or older  55.0          20     198986   \n\n    Scored By  Members                                          Image URL  \\\n11    1226493  2168904  https://cdn.myanimelist.net/images/anime/6/732...   \n\n     Mod_name  \n11  one piece  ",
      "text/html": "<div>\n<style scoped>\n    .dataframe tbody tr th:only-of-type {\n        vertical-align: middle;\n    }\n\n    .dataframe tbody tr th {\n        vertical-align: top;\n    }\n\n    .dataframe thead th {\n        text-align: right;\n    }\n</style>\n<table border=\"1\" class=\"dataframe\">\n  <thead>\n    <tr style=\"text-align: right;\">\n      <th></th>\n      <th>anime_id</th>\n      <th>Name</th>\n      <th>English name</th>\n      <th>Other name</th>\n      <th>Score</th>\n      <th>Genres</th>\n      <th>Synopsis</th>\n      <th>Type</th>\n      <th>Episodes</th>\n      <th>Aired</th>\n      <th>Premiered</th>\n      <th>Status</th>\n      <th>Studios</th>\n      <th>Source</th>\n      <th>Duration</th>\n      <th>Rating</th>\n      <th>Rank</th>\n      <th>Popularity</th>\n      <th>Favorites</th>\n      <th>Scored By</th>\n      <th>Members</th>\n      <th>Image URL</th>\n      <th>Mod_name</th>\n    </tr>\n  </thead>\n  <tbody>\n    <tr>\n      <th>11</th>\n      <td>21</td>\n      <td>One Piece</td>\n      <td>One Piece</td>\n      <td>ONE PIECE</td>\n      <td>8.69</td>\n      <td>Action, Adventure, Fantasy</td>\n      <td>Gol D. Roger was known as the \"Pirate King,\" t...</td>\n      <td>TV</td>\n      <td>UNKNOWN</td>\n      <td>Oct 20, 1999 to ?</td>\n      <td>fall 1999</td>\n      <td>Currently Airing</td>\n      <td>Toei Animation</td>\n      <td>Manga</td>\n      <td>24 min</td>\n      <td>PG-13 - Teens 13 or older</td>\n      <td>55.0</td>\n      <td>20</td>\n      <td>198986</td>\n      <td>1226493</td>\n      <td>2168904</td>\n      <td>https://cdn.myanimelist.net/images/anime/6/732...</td>\n      <td>one piece</td>\n    </tr>\n  </tbody>\n</table>\n</div>"
     },
     "execution_count": 17,
     "metadata": {},
     "output_type": "execute_result"
    }
   ],
   "source": [
    "df.loc[df['anime_id'] == 21]"
   ],
   "metadata": {
    "collapsed": false,
    "ExecuteTime": {
     "end_time": "2024-04-30T08:36:26.347992400Z",
     "start_time": "2024-04-30T08:36:26.336602900Z"
    }
   },
   "id": "d1829b07660d0928"
  },
  {
   "cell_type": "code",
   "execution_count": null,
   "outputs": [],
   "source": [],
   "metadata": {
    "collapsed": false
   },
   "id": "570e170b6357f44b"
  }
 ],
 "metadata": {
  "kernelspec": {
   "display_name": "Python 3",
   "language": "python",
   "name": "python3"
  },
  "language_info": {
   "codemirror_mode": {
    "name": "ipython",
    "version": 2
   },
   "file_extension": ".py",
   "mimetype": "text/x-python",
   "name": "python",
   "nbconvert_exporter": "python",
   "pygments_lexer": "ipython2",
   "version": "2.7.6"
  }
 },
 "nbformat": 4,
 "nbformat_minor": 5
}
