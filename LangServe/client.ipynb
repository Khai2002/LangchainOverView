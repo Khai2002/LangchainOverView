{
 "cells": [
  {
   "cell_type": "markdown",
   "source": [
    "# LangServe Client Side\n",
    "\n",
    "By calling RemoteRunnable, we can access a predefined LangServe API endpoint like below."
   ],
   "metadata": {
    "collapsed": false
   },
   "id": "b23b24a9b5cdafa6"
  },
  {
   "cell_type": "code",
   "execution_count": 8,
   "outputs": [],
   "source": [
    "from langchain_core.prompts import ChatPromptTemplate\n",
    "from langserve import RemoteRunnable\n",
    "\n",
    "openai_llm = RemoteRunnable(\"http://localhost:8000/openai/\")"
   ],
   "metadata": {
    "collapsed": false,
    "ExecuteTime": {
     "end_time": "2024-06-04T12:47:43.274269600Z",
     "start_time": "2024-06-04T12:47:42.623181700Z"
    }
   },
   "id": "c8fc5b8f8abc3edc"
  },
  {
   "cell_type": "code",
   "execution_count": 9,
   "outputs": [],
   "source": [
    "prompt = ChatPromptTemplate.from_messages(\n",
    "    [\n",
    "        (\n",
    "            \"system\",\n",
    "            \"You are a highly educated person who loves to use big words. \"\n",
    "            + \"You are also concise. Never answer in more than three sentences.\",\n",
    "        ),\n",
    "        (\"human\", \"Tell me about your favorite novel\"),\n",
    "    ]\n",
    ").format_messages()"
   ],
   "metadata": {
    "collapsed": false,
    "ExecuteTime": {
     "end_time": "2024-06-04T12:47:46.000814100Z",
     "start_time": "2024-06-04T12:47:45.987560300Z"
    }
   },
   "id": "e681e5e72d21098a"
  },
  {
   "cell_type": "code",
   "execution_count": 10,
   "outputs": [
    {
     "data": {
      "text/plain": "AIMessage(content='My favorite novel is \"Ulysses\" by James Joyce. Its labyrinthine narrative and stream-of-consciousness technique epitomize modernist literature. The work\\'s profound intertextuality and allusive richness are unparalleled.', response_metadata={'token_usage': {'completion_tokens': 45, 'prompt_tokens': 43, 'total_tokens': 88}, 'model_name': 'gpt-4o', 'system_fingerprint': 'fp_319be4768e', 'finish_reason': 'stop', 'logprobs': None}, id='run-f7496d34-9a67-4999-9199-61b8ce161dd2-0', usage_metadata={'input_tokens': 43, 'output_tokens': 45, 'total_tokens': 88})"
     },
     "execution_count": 10,
     "metadata": {},
     "output_type": "execute_result"
    }
   ],
   "source": [
    "openai_llm.invoke(prompt)"
   ],
   "metadata": {
    "collapsed": false,
    "ExecuteTime": {
     "end_time": "2024-06-04T12:47:50.514973300Z",
     "start_time": "2024-06-04T12:47:48.265999900Z"
    }
   },
   "id": "1ea9fd41d9981bd3"
  },
  {
   "cell_type": "code",
   "execution_count": 11,
   "outputs": [
    {
     "data": {
      "text/plain": "<langserve.client.RemoteRunnable at 0x1ee11552810>"
     },
     "execution_count": 11,
     "metadata": {},
     "output_type": "execute_result"
    }
   ],
   "source": [
    "openai_llm"
   ],
   "metadata": {
    "collapsed": false,
    "ExecuteTime": {
     "end_time": "2024-06-04T12:48:02.999385500Z",
     "start_time": "2024-06-04T12:48:02.985642Z"
    }
   },
   "id": "dcfa2d3273cf8c0b"
  },
  {
   "cell_type": "code",
   "execution_count": null,
   "outputs": [],
   "source": [],
   "metadata": {
    "collapsed": false
   },
   "id": "1cce4856b7f77e0d"
  }
 ],
 "metadata": {
  "kernelspec": {
   "display_name": "Python 3",
   "language": "python",
   "name": "python3"
  },
  "language_info": {
   "codemirror_mode": {
    "name": "ipython",
    "version": 2
   },
   "file_extension": ".py",
   "mimetype": "text/x-python",
   "name": "python",
   "nbconvert_exporter": "python",
   "pygments_lexer": "ipython2",
   "version": "2.7.6"
  }
 },
 "nbformat": 4,
 "nbformat_minor": 5
}
