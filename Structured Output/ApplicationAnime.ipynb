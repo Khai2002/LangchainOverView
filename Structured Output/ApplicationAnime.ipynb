{
 "cells": [
  {
   "cell_type": "code",
   "execution_count": 2,
   "id": "initial_id",
   "metadata": {
    "collapsed": true,
    "ExecuteTime": {
     "end_time": "2024-05-03T09:14:02.138609400Z",
     "start_time": "2024-05-03T09:14:00.279734500Z"
    }
   },
   "outputs": [
    {
     "data": {
      "text/plain": "True"
     },
     "execution_count": 2,
     "metadata": {},
     "output_type": "execute_result"
    }
   ],
   "source": [
    "from dotenv import load_dotenv\n",
    "from typing import List, Optional, TypedDict\n",
    "import uuid\n",
    "\n",
    "from langchain_core.messages import (\n",
    "    AIMessage,\n",
    "    BaseMessage,\n",
    "    HumanMessage,\n",
    "    SystemMessage,\n",
    "    ToolMessage,\n",
    ")\n",
    "from langchain_core.pydantic_v1 import BaseModel, Field\n",
    "from langchain_core.prompts import ChatPromptTemplate, MessagesPlaceholder\n",
    "from langchain_openai import ChatOpenAI\n",
    "\n",
    "load_dotenv()"
   ]
  },
  {
   "cell_type": "code",
   "execution_count": 3,
   "outputs": [],
   "source": [
    "class Anime(BaseModel):\n",
    "    \"\"\"\n",
    "    Information about an Anime that the user likes\n",
    "    \"\"\"\n",
    "    \n",
    "    description: Optional[str] = Field(default=None, description=\"The description of the anime\")\n",
    "\n",
    "class Data(BaseModel):\n",
    "    \"\"\"\n",
    "    Extracted data about anime into a list of 2 element\n",
    "    \"\"\"\n",
    "\n",
    "    list: List[Anime]"
   ],
   "metadata": {
    "collapsed": false,
    "ExecuteTime": {
     "end_time": "2024-05-03T09:14:02.140608100Z",
     "start_time": "2024-05-03T09:14:02.132310800Z"
    }
   },
   "id": "f13d8c987f4e80d9"
  },
  {
   "cell_type": "code",
   "execution_count": 4,
   "outputs": [],
   "source": [
    "prompt = ChatPromptTemplate.from_messages(\n",
    "    [\n",
    "        (\n",
    "            \"system\",\n",
    "            \"You are an expert extraction algorithm. \"\n",
    "            \"You only extract a maximum of 2 elements in the list\"\n",
    "            \"You will need to extract a very short description of the anime without giving its name.\"\n",
    "            \"Only extract relevant information from the text. \"\n",
    "            \"If you do not know the value of an attribute asked to extract, \"\n",
    "            \"return null for the attribute's value.\"\n",
    "            ,\n",
    "        ),\n",
    "        MessagesPlaceholder('examples'),\n",
    "        (\"human\", \"{text}\"),\n",
    "    ]\n",
    ")"
   ],
   "metadata": {
    "collapsed": false,
    "ExecuteTime": {
     "end_time": "2024-05-03T09:14:02.162389200Z",
     "start_time": "2024-05-03T09:14:02.144201700Z"
    }
   },
   "id": "69f91fb58a7ae242"
  },
  {
   "cell_type": "code",
   "execution_count": 5,
   "outputs": [
    {
     "name": "stderr",
     "output_type": "stream",
     "text": [
      "D:\\Anaconda\\envs\\ml\\Lib\\site-packages\\langchain_core\\_api\\beta_decorator.py:87: LangChainBetaWarning: The method `ChatOpenAI.with_structured_output` is in beta. It is actively being worked on, so the API may change.\n",
      "  warn_beta(\n"
     ]
    }
   ],
   "source": [
    "llm = ChatOpenAI(temperature=1, model=\"gpt-3.5-turbo-0613\", max_tokens=256)\n",
    "runnable = prompt | llm.with_structured_output(schema=Data)"
   ],
   "metadata": {
    "collapsed": false,
    "ExecuteTime": {
     "end_time": "2024-05-03T09:14:05.097174800Z",
     "start_time": "2024-05-03T09:14:02.151367100Z"
    }
   },
   "id": "18bf3d1739959c7a"
  },
  {
   "cell_type": "code",
   "execution_count": 6,
   "outputs": [
    {
     "data": {
      "text/plain": "Data(list=[Anime(description='A heartwarming story about a girl who falls in love with a boy from her school. They go through various challenges and obstacles as they navigate their feelings for each other.'), Anime(description='A tale of forbidden love between two people from rival families. Despite the obstacles, they are unable to deny their strong feelings for each other.')])"
     },
     "execution_count": 6,
     "metadata": {},
     "output_type": "execute_result"
    }
   ],
   "source": [
    "text = \"I want a romantic anime for girls\"\n",
    "runnable.invoke({\"text\": text, \"examples\": [HumanMessage(content=\"this is an example\")]})"
   ],
   "metadata": {
    "collapsed": false,
    "ExecuteTime": {
     "end_time": "2024-05-03T09:14:07.249545900Z",
     "start_time": "2024-05-03T09:14:05.103176200Z"
    }
   },
   "id": "d9240f05c9d6a3ad"
  },
  {
   "cell_type": "markdown",
   "source": [
    "### Adding Reference Examples"
   ],
   "metadata": {
    "collapsed": false
   },
   "id": "bfee5867d3b3a179"
  },
  {
   "cell_type": "code",
   "execution_count": 7,
   "outputs": [],
   "source": [
    "class Example(TypedDict):\n",
    "    \"\"\"A representation of an example consisting of text input and expected tool calls.\n",
    "\n",
    "    For extraction, the tool calls are represented as instances of pydantic model.\n",
    "    \"\"\"\n",
    "\n",
    "    input: str  # This is the example text\n",
    "    tool_calls: List[BaseModel]  # Instances of pydantic model that should be extracted\n",
    "\n",
    "def tool_example_to_messages(example: Example) -> List[BaseMessage]:\n",
    "    \"\"\"Convert an example into a list of messages that can be fed into an LLM.\n",
    "\n",
    "    This code is an adapter that converts our example to a list of messages\n",
    "    that can be fed into a chat model.\n",
    "\n",
    "    The list of messages per example corresponds to:\n",
    "\n",
    "    1) HumanMessage: contains the content from which content should be extracted.\n",
    "    2) AIMessage: contains the extracted information from the model\n",
    "    3) ToolMessage: contains confirmation to the model that the model requested a tool correctly.\n",
    "\n",
    "    The ToolMessage is required because some of the chat models are hyper-optimized for agents\n",
    "    rather than for an extraction use case.\n",
    "    \"\"\"\n",
    "    messages: List[BaseMessage] = [HumanMessage(content=example[\"input\"])]\n",
    "    openai_tool_calls = []\n",
    "    for tool_call in example[\"tool_calls\"]:\n",
    "        openai_tool_calls.append(\n",
    "            {\n",
    "                \"id\": str(uuid.uuid4()),\n",
    "                \"type\": \"function\",\n",
    "                \"function\": {\n",
    "                    # The name of the function right now corresponds\n",
    "                    # to the name of the pydantic model\n",
    "                    # This is implicit in the API right now,\n",
    "                    # and will be improved over time.\n",
    "                    \"name\": tool_call.__class__.__name__,\n",
    "                    \"arguments\": tool_call.json(),\n",
    "                },\n",
    "            }\n",
    "        )\n",
    "    messages.append(\n",
    "        AIMessage(content=\"\", additional_kwargs={\"tool_calls\": openai_tool_calls})\n",
    "    )\n",
    "    tool_outputs = example.get(\"tool_outputs\") or [\n",
    "        \"You have correctly called this tool.\"\n",
    "    ] * len(openai_tool_calls)\n",
    "    for output, tool_call in zip(tool_outputs, openai_tool_calls):\n",
    "        messages.append(ToolMessage(content=output, tool_call_id=tool_call[\"id\"]))\n",
    "    return messages"
   ],
   "metadata": {
    "collapsed": false,
    "ExecuteTime": {
     "end_time": "2024-05-03T09:14:07.251552500Z",
     "start_time": "2024-05-03T09:14:07.241517400Z"
    }
   },
   "id": "664da5877c73ada8"
  },
  {
   "cell_type": "code",
   "execution_count": 8,
   "outputs": [],
   "source": [
    "# Defining examples\n",
    "examples = [\n",
    "    (\n",
    "        \"I want an anime about camping.\",\n",
    "        Data(list=[\n",
    "            Anime(description='A group of high school students go on a camping trip and learn about nature and friendship.'), \n",
    "            Anime(description='A girl goes on a solo camping trip to find solace and discover herself in the great outdoors.')\n",
    "        ])\n",
    "    ),\n",
    "    (\n",
    "        \"I want a romantic anime for girls.\",\n",
    "        Data(list=[\n",
    "            Anime(description='A heartwarming story about two high school students who fall in love and navigate the ups and downs of their relationship.'), \n",
    "            Anime(description='A girl moves to a new town and finds herself drawn to a mysterious boy with a tragic past. Together, they discover the power of love and healing.')\n",
    "        ])\n",
    "    ),\n",
    "    (\n",
    "        \"What is 2+2?\",\n",
    "        Data(list=[])\n",
    "    ),\n",
    "    (\n",
    "        \"Give me a fun fact\",\n",
    "        Data(list=[])\n",
    "    ),\n",
    "    \n",
    "]"
   ],
   "metadata": {
    "collapsed": false,
    "ExecuteTime": {
     "end_time": "2024-05-03T09:14:07.253551900Z",
     "start_time": "2024-05-03T09:14:07.247523900Z"
    }
   },
   "id": "ed0bba6b12adf5a5"
  },
  {
   "cell_type": "code",
   "execution_count": 9,
   "outputs": [],
   "source": [
    "messages = []\n",
    "for text, tool_call in examples:\n",
    "    messages.extend(\n",
    "        tool_example_to_messages({\"input\": text, \"tool_calls\": [tool_call]})\n",
    "    )"
   ],
   "metadata": {
    "collapsed": false,
    "ExecuteTime": {
     "end_time": "2024-05-03T09:14:07.279451Z",
     "start_time": "2024-05-03T09:14:07.258705300Z"
    }
   },
   "id": "3100c174c003ae0c"
  },
  {
   "cell_type": "code",
   "execution_count": 10,
   "outputs": [
    {
     "data": {
      "text/plain": "ChatPromptValue(messages=[SystemMessage(content=\"You are an expert extraction algorithm. You only extract a maximum of 2 elements in the listYou will need to extract a very short description of the anime without giving its name.Only extract relevant information from the text. If you do not know the value of an attribute asked to extract, return null for the attribute's value.\"), HumanMessage(content='I want an anime about camping.'), AIMessage(content='', additional_kwargs={'tool_calls': [{'id': 'd3932476-b1b4-4003-9040-25843e5f8022', 'type': 'function', 'function': {'name': 'Data', 'arguments': '{\"list\": [{\"description\": \"A group of high school students go on a camping trip and learn about nature and friendship.\"}, {\"description\": \"A girl goes on a solo camping trip to find solace and discover herself in the great outdoors.\"}]}'}}]}, tool_calls=[{'name': 'Data', 'args': {'list': [{'description': 'A group of high school students go on a camping trip and learn about nature and friendship.'}, {'description': 'A girl goes on a solo camping trip to find solace and discover herself in the great outdoors.'}]}, 'id': 'd3932476-b1b4-4003-9040-25843e5f8022'}]), ToolMessage(content='You have correctly called this tool.', tool_call_id='d3932476-b1b4-4003-9040-25843e5f8022'), HumanMessage(content='I want a romantic anime for girls.'), AIMessage(content='', additional_kwargs={'tool_calls': [{'id': '57f4205a-8350-4f7a-9efc-1fc8eca2929a', 'type': 'function', 'function': {'name': 'Data', 'arguments': '{\"list\": [{\"description\": \"A heartwarming story about two high school students who fall in love and navigate the ups and downs of their relationship.\"}, {\"description\": \"A girl moves to a new town and finds herself drawn to a mysterious boy with a tragic past. Together, they discover the power of love and healing.\"}]}'}}]}, tool_calls=[{'name': 'Data', 'args': {'list': [{'description': 'A heartwarming story about two high school students who fall in love and navigate the ups and downs of their relationship.'}, {'description': 'A girl moves to a new town and finds herself drawn to a mysterious boy with a tragic past. Together, they discover the power of love and healing.'}]}, 'id': '57f4205a-8350-4f7a-9efc-1fc8eca2929a'}]), ToolMessage(content='You have correctly called this tool.', tool_call_id='57f4205a-8350-4f7a-9efc-1fc8eca2929a'), HumanMessage(content='What is 2+2?'), AIMessage(content='', additional_kwargs={'tool_calls': [{'id': 'f35adc1e-3977-4137-98d6-118147a2c31d', 'type': 'function', 'function': {'name': 'Data', 'arguments': '{\"list\": []}'}}]}, tool_calls=[{'name': 'Data', 'args': {'list': []}, 'id': 'f35adc1e-3977-4137-98d6-118147a2c31d'}]), ToolMessage(content='You have correctly called this tool.', tool_call_id='f35adc1e-3977-4137-98d6-118147a2c31d'), HumanMessage(content='Give me a fun fact'), AIMessage(content='', additional_kwargs={'tool_calls': [{'id': '11433b68-7aea-458b-ae24-0ed19ce0fa34', 'type': 'function', 'function': {'name': 'Data', 'arguments': '{\"list\": []}'}}]}, tool_calls=[{'name': 'Data', 'args': {'list': []}, 'id': '11433b68-7aea-458b-ae24-0ed19ce0fa34'}]), ToolMessage(content='You have correctly called this tool.', tool_call_id='11433b68-7aea-458b-ae24-0ed19ce0fa34'), HumanMessage(content='What is 2+2?')])"
     },
     "execution_count": 10,
     "metadata": {},
     "output_type": "execute_result"
    }
   ],
   "source": [
    "prompt.invoke({\"text\": \"What is 2+2?\", \"examples\": messages})"
   ],
   "metadata": {
    "collapsed": false,
    "ExecuteTime": {
     "end_time": "2024-05-03T09:14:08.377448600Z",
     "start_time": "2024-05-03T09:14:08.357533700Z"
    }
   },
   "id": "21464622bcda167"
  },
  {
   "cell_type": "code",
   "execution_count": 11,
   "outputs": [],
   "source": [
    "text = \"an story about war and combat\"\n",
    "data = runnable.invoke({\"text\": text, \"examples\": messages})"
   ],
   "metadata": {
    "collapsed": false,
    "ExecuteTime": {
     "end_time": "2024-05-03T09:14:10.843477900Z",
     "start_time": "2024-05-03T09:14:09.611375500Z"
    }
   },
   "id": "42e7044d007ab437"
  },
  {
   "cell_type": "code",
   "execution_count": 12,
   "outputs": [
    {
     "data": {
      "text/plain": "Data(list=[Anime(description='Set in a dystopian future, a group of soldiers fight against an oppressive regime to regain freedom and restore peace to their war-torn land.'), Anime(description='During a devastating war, a young soldier struggles to reconcile his duty with his desire for peace, leading him on a journey of self-discovery and redemption.')])"
     },
     "execution_count": 12,
     "metadata": {},
     "output_type": "execute_result"
    }
   ],
   "source": [
    "data"
   ],
   "metadata": {
    "collapsed": false,
    "ExecuteTime": {
     "end_time": "2024-05-03T09:14:17.594136400Z",
     "start_time": "2024-05-03T09:14:17.566157500Z"
    }
   },
   "id": "f489b6d3b388ff9e"
  },
  {
   "cell_type": "code",
   "execution_count": 164,
   "outputs": [],
   "source": [
    "anime_description = [anime.description for anime in data.list]"
   ],
   "metadata": {
    "collapsed": false,
    "ExecuteTime": {
     "end_time": "2024-05-02T09:44:38.707605200Z",
     "start_time": "2024-05-02T09:44:38.690559400Z"
    }
   },
   "id": "25de5413a9237181"
  },
  {
   "cell_type": "code",
   "execution_count": 165,
   "outputs": [
    {
     "data": {
      "text/plain": "['In a war-torn world, a group of skilled soldiers must band together to protect their homeland and fight against an oppressive regime.',\n 'Set during a fictional war, this story follows a young soldier as he is drafted into battle and faces the harsh realities of combat.']"
     },
     "execution_count": 165,
     "metadata": {},
     "output_type": "execute_result"
    }
   ],
   "source": [
    "anime_description"
   ],
   "metadata": {
    "collapsed": false,
    "ExecuteTime": {
     "end_time": "2024-05-02T09:44:39.125496400Z",
     "start_time": "2024-05-02T09:44:39.114155500Z"
    }
   },
   "id": "9d8357eedcc92828"
  },
  {
   "cell_type": "code",
   "execution_count": null,
   "outputs": [],
   "source": [],
   "metadata": {
    "collapsed": false
   },
   "id": "1b6ed085f6d1061e"
  }
 ],
 "metadata": {
  "kernelspec": {
   "display_name": "Python 3",
   "language": "python",
   "name": "python3"
  },
  "language_info": {
   "codemirror_mode": {
    "name": "ipython",
    "version": 2
   },
   "file_extension": ".py",
   "mimetype": "text/x-python",
   "name": "python",
   "nbconvert_exporter": "python",
   "pygments_lexer": "ipython2",
   "version": "2.7.6"
  }
 },
 "nbformat": 4,
 "nbformat_minor": 5
}
