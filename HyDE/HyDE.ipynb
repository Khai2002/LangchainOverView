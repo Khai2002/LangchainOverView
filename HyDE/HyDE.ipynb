{
 "cells": [
  {
   "cell_type": "code",
   "execution_count": 1,
   "id": "initial_id",
   "metadata": {
    "collapsed": true,
    "ExecuteTime": {
     "end_time": "2024-06-06T15:34:38.906363Z",
     "start_time": "2024-06-06T15:34:38.871852500Z"
    }
   },
   "outputs": [
    {
     "data": {
      "text/plain": "True"
     },
     "execution_count": 1,
     "metadata": {},
     "output_type": "execute_result"
    }
   ],
   "source": [
    "from dotenv import load_dotenv\n",
    "load_dotenv()"
   ]
  },
  {
   "cell_type": "code",
   "execution_count": 43,
   "outputs": [],
   "source": [
    "from langchain_core.prompts import ChatPromptTemplate\n",
    "\n",
    "prompt = ChatPromptTemplate.from_template(\n",
    "    \"\"\"\n",
    "    You are an assistance designed to respond to question below.\n",
    "    If the question is related to books / newspaper / articles / mangas and all that you can find in a library, give 1 synopsis without the title\n",
    "    \n",
    "    Question:\n",
    "    {question}\n",
    "    \"\"\"\n",
    ")"
   ],
   "metadata": {
    "collapsed": false,
    "ExecuteTime": {
     "end_time": "2024-06-06T17:19:34.276384100Z",
     "start_time": "2024-06-06T17:19:34.265968400Z"
    }
   },
   "id": "6aa53aab06862eb2"
  },
  {
   "cell_type": "code",
   "execution_count": 44,
   "outputs": [],
   "source": [
    "from langchain_openai import ChatOpenAI\n",
    "\n",
    "llm = ChatOpenAI(model=\"gpt-4o\")"
   ],
   "metadata": {
    "collapsed": false,
    "ExecuteTime": {
     "end_time": "2024-06-06T17:19:35.135046Z",
     "start_time": "2024-06-06T17:19:34.479216Z"
    }
   },
   "id": "73173a8092a9bdca"
  },
  {
   "cell_type": "code",
   "execution_count": 45,
   "outputs": [],
   "source": [
    "from langchain_core.output_parsers import StrOutputParser\n",
    "\n",
    "chain = prompt | llm | StrOutputParser()"
   ],
   "metadata": {
    "collapsed": false,
    "ExecuteTime": {
     "end_time": "2024-06-06T17:19:35.158742700Z",
     "start_time": "2024-06-06T17:19:35.143746700Z"
    }
   },
   "id": "b50db4bfde75c885"
  },
  {
   "cell_type": "code",
   "execution_count": 61,
   "outputs": [
    {
     "data": {
      "text/plain": "'In a world where humans and mythical creatures coexist, a young girl discovers she has the unique ability to communicate with the ancient spirits that govern nature. As she embarks on a journey to understand her powers, she encounters a diverse cast of characters—both allies and adversaries—who shape her destiny. Amid political intrigue and brewing conflict between different realms, she must navigate complex relationships and uncover hidden truths about her heritage. With the fate of multiple worlds hanging in the balance, her choices could either bring harmony or lead to catastrophic upheaval. This tale weaves together elements of fantasy, adventure, and coming-of-age, offering readers a richly detailed universe and a protagonist whose inner strength and resilience shine through.'"
     },
     "execution_count": 61,
     "metadata": {},
     "output_type": "execute_result"
    }
   ],
   "source": [
    "chain.invoke(\"Not written by Oda\")"
   ],
   "metadata": {
    "collapsed": false,
    "ExecuteTime": {
     "end_time": "2024-06-06T17:25:37.942088500Z",
     "start_time": "2024-06-06T17:25:34.472494800Z"
    }
   },
   "id": "a5b3247ded764837"
  },
  {
   "cell_type": "markdown",
   "source": [
    "# Question enhance prompt"
   ],
   "metadata": {
    "collapsed": false
   },
   "id": "93478d9441d0c456"
  },
  {
   "cell_type": "code",
   "execution_count": 56,
   "outputs": [],
   "source": [
    "q_prompt = ChatPromptTemplate.from_template(\n",
    "    \"\"\"\n",
    "    You are an assistance tasked with enhancing the request below while keeping the meaning.\n",
    "    If the request contains negation clause, eliminate them while keeping the meaning in tact.\n",
    "    \n",
    "    Example:\n",
    "    Human: Non horror\n",
    "    AI: Can you recommend a book that is about adventure or action?\n",
    "    \n",
    "    Human: Pirating\n",
    "    AI: Can you recommend me pirate related books?\n",
    "    \n",
    "    Human: Not a manga\n",
    "    AI: Can you recommend a classic western novel?\n",
    "    \n",
    "    Human:\n",
    "    {request}\n",
    "    AI:\n",
    "    \"\"\"\n",
    ")       "
   ],
   "metadata": {
    "collapsed": false,
    "ExecuteTime": {
     "end_time": "2024-06-06T17:24:28.859075200Z",
     "start_time": "2024-06-06T17:24:28.846868300Z"
    }
   },
   "id": "2f0281bc633b8bb0"
  },
  {
   "cell_type": "code",
   "execution_count": 57,
   "outputs": [],
   "source": [
    "q_chain = q_prompt | llm | StrOutputParser()"
   ],
   "metadata": {
    "collapsed": false,
    "ExecuteTime": {
     "end_time": "2024-06-06T17:24:29.181661700Z",
     "start_time": "2024-06-06T17:24:29.174865800Z"
    }
   },
   "id": "a84ba2d44d0b7a76"
  },
  {
   "cell_type": "code",
   "execution_count": 59,
   "outputs": [
    {
     "data": {
      "text/plain": "'Can you recommend a book that is not set in the Western genre?'"
     },
     "execution_count": 59,
     "metadata": {},
     "output_type": "execute_result"
    }
   ],
   "source": [
    "q_chain.invoke(\"Not a western style book\")"
   ],
   "metadata": {
    "collapsed": false,
    "ExecuteTime": {
     "end_time": "2024-06-06T17:24:42.937683800Z",
     "start_time": "2024-06-06T17:24:41.794233700Z"
    }
   },
   "id": "c05b1a3420bfaca1"
  },
  {
   "cell_type": "code",
   "execution_count": null,
   "outputs": [],
   "source": [],
   "metadata": {
    "collapsed": false
   },
   "id": "f0fd259166be8d5"
  }
 ],
 "metadata": {
  "kernelspec": {
   "display_name": "Python 3",
   "language": "python",
   "name": "python3"
  },
  "language_info": {
   "codemirror_mode": {
    "name": "ipython",
    "version": 2
   },
   "file_extension": ".py",
   "mimetype": "text/x-python",
   "name": "python",
   "nbconvert_exporter": "python",
   "pygments_lexer": "ipython2",
   "version": "2.7.6"
  }
 },
 "nbformat": 4,
 "nbformat_minor": 5
}
