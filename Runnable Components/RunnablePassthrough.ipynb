{
 "cells": [
  {
   "cell_type": "code",
   "execution_count": 1,
   "id": "initial_id",
   "metadata": {
    "collapsed": true,
    "ExecuteTime": {
     "end_time": "2024-05-02T06:31:58.477995700Z",
     "start_time": "2024-05-02T06:31:58.168414900Z"
    }
   },
   "outputs": [],
   "source": [
    "from langchain_core.runnables import RunnablePassthrough"
   ]
  },
  {
   "cell_type": "markdown",
   "source": [
    "### Simple Implementation"
   ],
   "metadata": {
    "collapsed": false
   },
   "id": "35cc9d75b26d6e94"
  },
  {
   "cell_type": "code",
   "execution_count": 2,
   "outputs": [],
   "source": [
    "runnable = RunnablePassthrough()"
   ],
   "metadata": {
    "collapsed": false,
    "ExecuteTime": {
     "end_time": "2024-05-02T06:32:06.662955500Z",
     "start_time": "2024-05-02T06:32:06.640550500Z"
    }
   },
   "id": "9d0b6fbefa62ddc1"
  },
  {
   "cell_type": "code",
   "execution_count": 3,
   "outputs": [
    {
     "data": {
      "text/plain": "{'text': 'Hello', 'number': 1}"
     },
     "execution_count": 3,
     "metadata": {},
     "output_type": "execute_result"
    }
   ],
   "source": [
    "runnable.invoke({'text': 'Hello', 'number': 1})"
   ],
   "metadata": {
    "collapsed": false,
    "ExecuteTime": {
     "end_time": "2024-05-02T06:32:26.590658900Z",
     "start_time": "2024-05-02T06:32:25.673586200Z"
    }
   },
   "id": "55002f9e8db22e16"
  },
  {
   "cell_type": "markdown",
   "source": [
    "### Complex Implementation"
   ],
   "metadata": {
    "collapsed": false
   },
   "id": "5870c573d8716ee4"
  },
  {
   "cell_type": "code",
   "execution_count": 5,
   "outputs": [],
   "source": [
    "def fake_llm(prompt: str) -> str: # Fake LLM for the example\n",
    "    return \"completion\""
   ],
   "metadata": {
    "collapsed": false,
    "ExecuteTime": {
     "end_time": "2024-05-02T06:40:13.585451900Z",
     "start_time": "2024-05-02T06:40:13.572692600Z"
    }
   },
   "id": "ecf4a8682f9936ef"
  },
  {
   "cell_type": "code",
   "execution_count": 9,
   "outputs": [],
   "source": [
    "runnable = {\n",
    "    'llm1':  fake_llm,\n",
    "    'llm2':  fake_llm,\n",
    "} | RunnablePassthrough.assign(\n",
    "    total_chars=lambda inputs: len(inputs['llm1'] + inputs['llm2'])\n",
    ")"
   ],
   "metadata": {
    "collapsed": false,
    "ExecuteTime": {
     "end_time": "2024-05-02T06:51:23.882929300Z",
     "start_time": "2024-05-02T06:51:23.872413Z"
    }
   },
   "id": "83c1dd6de42ebdc8"
  },
  {
   "cell_type": "code",
   "execution_count": 10,
   "outputs": [
    {
     "data": {
      "text/plain": "{'llm1': 'completion', 'llm2': 'completion', 'total_chars': 20}"
     },
     "execution_count": 10,
     "metadata": {},
     "output_type": "execute_result"
    }
   ],
   "source": [
    "runnable.invoke(\"hello\")"
   ],
   "metadata": {
    "collapsed": false,
    "ExecuteTime": {
     "end_time": "2024-05-02T06:51:24.595069100Z",
     "start_time": "2024-05-02T06:51:24.552747700Z"
    }
   },
   "id": "ff1aad2e81fe30b2"
  }
 ],
 "metadata": {
  "kernelspec": {
   "display_name": "Python 3",
   "language": "python",
   "name": "python3"
  },
  "language_info": {
   "codemirror_mode": {
    "name": "ipython",
    "version": 2
   },
   "file_extension": ".py",
   "mimetype": "text/x-python",
   "name": "python",
   "nbconvert_exporter": "python",
   "pygments_lexer": "ipython2",
   "version": "2.7.6"
  }
 },
 "nbformat": 4,
 "nbformat_minor": 5
}
