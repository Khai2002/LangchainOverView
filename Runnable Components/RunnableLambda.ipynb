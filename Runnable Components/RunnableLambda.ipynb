{
 "cells": [
  {
   "cell_type": "code",
   "execution_count": 1,
   "id": "initial_id",
   "metadata": {
    "collapsed": true,
    "ExecuteTime": {
     "end_time": "2024-05-02T06:53:52.332269800Z",
     "start_time": "2024-05-02T06:53:51.885548400Z"
    }
   },
   "outputs": [],
   "source": [
    "from langchain_core.runnables import RunnableLambda"
   ]
  },
  {
   "cell_type": "code",
   "execution_count": 8,
   "outputs": [],
   "source": [
    "def add_one(x: int) -> int:\n",
    "    return x + 1\n",
    "\n",
    "def add_two(x: int, y: int) -> int:\n",
    "    return x + y"
   ],
   "metadata": {
    "collapsed": false,
    "ExecuteTime": {
     "end_time": "2024-05-02T06:56:42.996288100Z",
     "start_time": "2024-05-02T06:56:42.980231100Z"
    }
   },
   "id": "da14ea279784a085"
  },
  {
   "cell_type": "markdown",
   "source": [
    "### One Parameter"
   ],
   "metadata": {
    "collapsed": false
   },
   "id": "ee5d73b87ccefe6"
  },
  {
   "cell_type": "code",
   "execution_count": 9,
   "outputs": [],
   "source": [
    "runnable = RunnableLambda(add_one)"
   ],
   "metadata": {
    "collapsed": false,
    "ExecuteTime": {
     "end_time": "2024-05-02T06:56:43.296197300Z",
     "start_time": "2024-05-02T06:56:43.285086700Z"
    }
   },
   "id": "3e28dc69acaceb29"
  },
  {
   "cell_type": "code",
   "execution_count": 10,
   "outputs": [
    {
     "data": {
      "text/plain": "2"
     },
     "execution_count": 10,
     "metadata": {},
     "output_type": "execute_result"
    }
   ],
   "source": [
    "runnable.invoke(1) # returns 2"
   ],
   "metadata": {
    "collapsed": false,
    "ExecuteTime": {
     "end_time": "2024-05-02T06:56:43.476744300Z",
     "start_time": "2024-05-02T06:56:43.455994400Z"
    }
   },
   "id": "7dab78c7ee9c6931"
  },
  {
   "cell_type": "code",
   "execution_count": 11,
   "outputs": [
    {
     "data": {
      "text/plain": "[2, 3, 4]"
     },
     "execution_count": 11,
     "metadata": {},
     "output_type": "execute_result"
    }
   ],
   "source": [
    "runnable.batch([1, 2, 3]) # returns [2, 3, 4]"
   ],
   "metadata": {
    "collapsed": false,
    "ExecuteTime": {
     "end_time": "2024-05-02T06:56:43.632224800Z",
     "start_time": "2024-05-02T06:56:43.613895100Z"
    }
   },
   "id": "4a95a46df370e4aa"
  },
  {
   "cell_type": "markdown",
   "source": [
    "### Many Parameters\n",
    "I don't know how to do them, perhaps we have to rely on @tool for that"
   ],
   "metadata": {
    "collapsed": false
   },
   "id": "560e6cb531b533f5"
  }
 ],
 "metadata": {
  "kernelspec": {
   "display_name": "Python 3",
   "language": "python",
   "name": "python3"
  },
  "language_info": {
   "codemirror_mode": {
    "name": "ipython",
    "version": 2
   },
   "file_extension": ".py",
   "mimetype": "text/x-python",
   "name": "python",
   "nbconvert_exporter": "python",
   "pygments_lexer": "ipython2",
   "version": "2.7.6"
  }
 },
 "nbformat": 4,
 "nbformat_minor": 5
}
