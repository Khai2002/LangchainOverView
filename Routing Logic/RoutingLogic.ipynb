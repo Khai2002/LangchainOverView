{
 "cells": [
  {
   "cell_type": "code",
   "execution_count": 1,
   "id": "initial_id",
   "metadata": {
    "collapsed": true,
    "ExecuteTime": {
     "end_time": "2024-05-03T08:12:41.083312800Z",
     "start_time": "2024-05-03T08:12:39.633368400Z"
    }
   },
   "outputs": [
    {
     "data": {
      "text/plain": "True"
     },
     "execution_count": 1,
     "metadata": {},
     "output_type": "execute_result"
    }
   ],
   "source": [
    "from dotenv import load_dotenv\n",
    "from langchain_openai import ChatOpenAI\n",
    "from langchain_core.output_parsers import StrOutputParser\n",
    "from langchain_core.prompts import ChatPromptTemplate\n",
    "from langchain_core.runnables import RunnableLambda\n",
    "\n",
    "load_dotenv()"
   ]
  },
  {
   "cell_type": "code",
   "execution_count": 2,
   "outputs": [
    {
     "data": {
      "text/plain": "'Anime or Story'"
     },
     "execution_count": 2,
     "metadata": {},
     "output_type": "execute_result"
    }
   ],
   "source": [
    "chain = (\n",
    "    ChatPromptTemplate.from_template(\n",
    "        \"\"\"Given the user request below, classify it as either being about `Anime or Story` or `Other`.\n",
    "\n",
    "Be more willing to classify `Anime or Story`\n",
    "Do not respond with more than one word.\n",
    "\n",
    "<request>\n",
    "{request}\n",
    "</request>\n",
    "\n",
    "Classification:\"\"\"\n",
    "    )\n",
    "    | ChatOpenAI(model_name=\"gpt-3.5-turbo-0613\")\n",
    "    | StrOutputParser()\n",
    ")\n",
    "\n",
    "chain.invoke({\"request\": \"I want a romantic and comedy show\"})"
   ],
   "metadata": {
    "collapsed": false,
    "ExecuteTime": {
     "end_time": "2024-05-03T08:12:42.748852900Z",
     "start_time": "2024-05-03T08:12:41.081308Z"
    }
   },
   "id": "c999939d08d2ee02"
  },
  {
   "cell_type": "code",
   "execution_count": 3,
   "outputs": [],
   "source": [
    "anime_chain = ChatPromptTemplate.from_template(\n",
    "    \"\"\"You are an anime recommender. \\\n",
    "    You recommend an anime based on the user's request.\n",
    "    \n",
    "    Request: {request}\n",
    "    Answer:\n",
    "    \"\"\"\n",
    ") | ChatOpenAI(model_name=\"gpt-3.5-turbo-0613\")\n",
    "\n",
    "general_chain = ChatPromptTemplate.from_template(\n",
    "    \"\"\"Respond to the following question:\n",
    "\n",
    "    Request: {request}\n",
    "    Answer:\n",
    "    \"\"\"\n",
    ") | ChatOpenAI(model_name=\"gpt-3.5-turbo-0613\")"
   ],
   "metadata": {
    "collapsed": false,
    "ExecuteTime": {
     "end_time": "2024-05-03T08:12:43.875893900Z",
     "start_time": "2024-05-03T08:12:42.746856500Z"
    }
   },
   "id": "e592372bf80ea014"
  },
  {
   "cell_type": "code",
   "execution_count": 4,
   "outputs": [],
   "source": [
    "def route(info):\n",
    "    if \"anime\" in info[\"topic\"].lower():\n",
    "        return anime_chain\n",
    "    else:\n",
    "        return general_chain"
   ],
   "metadata": {
    "collapsed": false,
    "ExecuteTime": {
     "end_time": "2024-05-03T08:12:43.889097800Z",
     "start_time": "2024-05-03T08:12:43.879635Z"
    }
   },
   "id": "16b49a8e2dc386a2"
  },
  {
   "cell_type": "code",
   "execution_count": 5,
   "outputs": [],
   "source": [
    "full_chain = {\"topic\": chain, \"request\": lambda x: x[\"request\"]} | RunnableLambda(\n",
    "    route\n",
    ") | StrOutputParser()"
   ],
   "metadata": {
    "collapsed": false,
    "ExecuteTime": {
     "end_time": "2024-05-03T08:12:43.904149500Z",
     "start_time": "2024-05-03T08:12:43.889869300Z"
    }
   },
   "id": "d85b02d8128f2ebf"
  },
  {
   "cell_type": "markdown",
   "source": [
    "### Use cases"
   ],
   "metadata": {
    "collapsed": false
   },
   "id": "156d621844b1ee81"
  },
  {
   "cell_type": "code",
   "execution_count": 6,
   "outputs": [
    {
     "data": {
      "text/plain": "'As in the database told me, I recommend you watch \"One Piece\". It is an exciting adventure anime that follows the journey of Monkey D. Luffy and his crew as they search for the ultimate treasure, the One Piece. With a vast and immersive world, memorable characters, and thrilling battles, this anime will surely take you on a grand adventure.'"
     },
     "execution_count": 6,
     "metadata": {},
     "output_type": "execute_result"
    }
   ],
   "source": [
    "full_chain.invoke({\"request\": \"recommend me an adventure anime\"})"
   ],
   "metadata": {
    "collapsed": false,
    "ExecuteTime": {
     "end_time": "2024-05-03T08:12:46.608022100Z",
     "start_time": "2024-05-03T08:12:43.900196200Z"
    }
   },
   "id": "1cd3d505c4b567d1"
  },
  {
   "cell_type": "markdown",
   "source": [],
   "metadata": {
    "collapsed": false
   },
   "id": "846e8b20a052ea24"
  },
  {
   "cell_type": "code",
   "execution_count": 52,
   "outputs": [
    {
     "data": {
      "text/plain": "AIMessage(content='I luv u! Did you know that the sun is actually a giant ball of hot gas?', response_metadata={'token_usage': {'completion_tokens': 20, 'prompt_tokens': 42, 'total_tokens': 62}, 'model_name': 'gpt-3.5-turbo-0613', 'system_fingerprint': None, 'finish_reason': 'stop', 'logprobs': None}, id='run-1359da09-402a-48f2-b5c2-3ca6881a68bd-0')"
     },
     "execution_count": 52,
     "metadata": {},
     "output_type": "execute_result"
    }
   ],
   "source": [
    "full_chain.invoke({\"request\": \"tell me a fun facct about the sun\"})"
   ],
   "metadata": {
    "collapsed": false,
    "ExecuteTime": {
     "end_time": "2024-05-02T09:39:31.169318200Z",
     "start_time": "2024-05-02T09:39:29.901402300Z"
    }
   },
   "id": "8c48bf3a4ef94aaa"
  },
  {
   "cell_type": "code",
   "execution_count": null,
   "outputs": [],
   "source": [],
   "metadata": {
    "collapsed": false
   },
   "id": "13548aa8a4058cb1"
  }
 ],
 "metadata": {
  "kernelspec": {
   "display_name": "Python 3",
   "language": "python",
   "name": "python3"
  },
  "language_info": {
   "codemirror_mode": {
    "name": "ipython",
    "version": 2
   },
   "file_extension": ".py",
   "mimetype": "text/x-python",
   "name": "python",
   "nbconvert_exporter": "python",
   "pygments_lexer": "ipython2",
   "version": "2.7.6"
  }
 },
 "nbformat": 4,
 "nbformat_minor": 5
}
