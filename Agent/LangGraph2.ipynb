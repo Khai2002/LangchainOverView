{
 "cells": [
  {
   "cell_type": "code",
   "execution_count": 1,
   "outputs": [
    {
     "data": {
      "text/plain": "True"
     },
     "execution_count": 1,
     "metadata": {},
     "output_type": "execute_result"
    }
   ],
   "source": [
    "from dotenv import load_dotenv\n",
    "load_dotenv()"
   ],
   "metadata": {
    "collapsed": false,
    "ExecuteTime": {
     "end_time": "2024-06-02T08:47:53.705436800Z",
     "start_time": "2024-06-02T08:47:53.677814400Z"
    }
   },
   "id": "cd2fec7a6a497f34"
  },
  {
   "cell_type": "code",
   "execution_count": 2,
   "outputs": [],
   "source": [
    "from typing import Annotated\n",
    "from typing_extensions import TypedDict\n",
    "from langchain_openai import ChatOpenAI\n",
    "from langgraph.graph import StateGraph\n",
    "from langgraph.graph.message import add_messages\n",
    "\n",
    "class State(TypedDict):\n",
    "    messages: Annotated[list, add_messages]\n",
    "    \n",
    "graph_builder = StateGraph(State)"
   ],
   "metadata": {
    "collapsed": false,
    "ExecuteTime": {
     "end_time": "2024-06-02T08:47:55.575956Z",
     "start_time": "2024-06-02T08:47:53.714724700Z"
    }
   },
   "id": "2f82cda6ef83edd1"
  },
  {
   "cell_type": "code",
   "execution_count": 3,
   "id": "initial_id",
   "metadata": {
    "collapsed": true,
    "ExecuteTime": {
     "end_time": "2024-06-02T08:47:55.735115300Z",
     "start_time": "2024-06-02T08:47:55.580561800Z"
    }
   },
   "outputs": [],
   "source": [
    "from langchain_community.tools.tavily_search import TavilySearchResults"
   ]
  },
  {
   "cell_type": "code",
   "execution_count": 4,
   "outputs": [],
   "source": [
    "tool = TavilySearchResults(max_results=1)\n",
    "tools = [tool]\n",
    "# tool.invoke(\"Where is Cachan\")"
   ],
   "metadata": {
    "collapsed": false,
    "ExecuteTime": {
     "end_time": "2024-06-02T08:47:55.752814400Z",
     "start_time": "2024-06-02T08:47:55.742090700Z"
    }
   },
   "id": "4129aefbfd701fa8"
  },
  {
   "cell_type": "code",
   "execution_count": 5,
   "outputs": [],
   "source": [
    "llm = ChatOpenAI(model=\"gpt-4o\")\n",
    "llm_with_tools = llm.bind_tools(tools)"
   ],
   "metadata": {
    "collapsed": false,
    "ExecuteTime": {
     "end_time": "2024-06-02T08:47:56.981584800Z",
     "start_time": "2024-06-02T08:47:55.749281100Z"
    }
   },
   "id": "7d5904fefb3e54ba"
  },
  {
   "cell_type": "code",
   "execution_count": 6,
   "outputs": [],
   "source": [
    "def chatbot(state: State):\n",
    "    return {\"messages\": [llm_with_tools.invoke(state[\"messages\"])]}"
   ],
   "metadata": {
    "collapsed": false,
    "ExecuteTime": {
     "end_time": "2024-06-02T08:47:56.996561800Z",
     "start_time": "2024-06-02T08:47:56.986443800Z"
    }
   },
   "id": "167f954b7c31cc4f"
  },
  {
   "cell_type": "code",
   "execution_count": 7,
   "outputs": [],
   "source": [
    "graph_builder.add_node(\"chatbot\", chatbot)"
   ],
   "metadata": {
    "collapsed": false,
    "ExecuteTime": {
     "end_time": "2024-06-02T08:47:56.998682600Z",
     "start_time": "2024-06-02T08:47:56.994252800Z"
    }
   },
   "id": "86268f089a021a7"
  },
  {
   "cell_type": "markdown",
   "source": [
    "## Basic Tool Node"
   ],
   "metadata": {
    "collapsed": false
   },
   "id": "8d6db30de0ae87b0"
  },
  {
   "cell_type": "code",
   "execution_count": 8,
   "outputs": [],
   "source": [
    "import json\n",
    "from langchain_core.messages import ToolMessage\n",
    "\n",
    "class BasicToolNode:\n",
    "    \"\"\"A node that runs the tools requested in the last AIMessage.\"\"\"\n",
    "    \n",
    "    def __init__(self, tools: list) -> None:\n",
    "        self.tools_by_name = {tool.name: tool for tool in tools}\n",
    "        \n",
    "    def __call__(self, inputs: dict):\n",
    "        if messages := inputs.get(\"messages\", []):\n",
    "            message = messages[-1]\n",
    "        else:\n",
    "            raise ValueError(\"No messages found in input\")\n",
    "        outputs = []\n",
    "        for tool_call in message.tool_calls:\n",
    "            tool_result = self.tools_by_name[tool_call[\"name\"]].invoke(\n",
    "                tool_call[\"args\"]\n",
    "            )\n",
    "            outputs.append(\n",
    "                ToolMessage(\n",
    "                    content=json.dumps(tool_result),\n",
    "                    name=tool_call[\"name\"],\n",
    "                    tool_call_id = tool_call[\"id\"],\n",
    "                )\n",
    "            )\n",
    "        return {\"messages\": outputs}     "
   ],
   "metadata": {
    "collapsed": false,
    "ExecuteTime": {
     "end_time": "2024-06-02T08:47:57.032379500Z",
     "start_time": "2024-06-02T08:47:57.002274100Z"
    }
   },
   "id": "38d9c32c2253f39b"
  },
  {
   "cell_type": "code",
   "execution_count": 9,
   "outputs": [],
   "source": [
    "tool_node = BasicToolNode(tools=[tool])\n",
    "graph_builder.add_node(\"tools\", tool_node)"
   ],
   "metadata": {
    "collapsed": false,
    "ExecuteTime": {
     "end_time": "2024-06-02T08:47:57.032481900Z",
     "start_time": "2024-06-02T08:47:57.016233Z"
    }
   },
   "id": "e38f21fcfa3af484"
  },
  {
   "cell_type": "code",
   "execution_count": 10,
   "outputs": [],
   "source": [
    "from typing import Literal\n",
    "\n",
    "def route_tools(\n",
    "        state: State,\n",
    ") -> Literal[\"tools\", \"__end__\"]:\n",
    "    \"\"\"Use in the conditional_edge to route to the ToolNode if the last message\n",
    "\n",
    "    has tool calls. Otherwise, route to the end.\"\"\"\n",
    "    if isinstance(state, list):\n",
    "        ai_message = state[-1]\n",
    "    elif messages := state.get(\"messages\", []):\n",
    "        ai_message = messages[-1]\n",
    "    else:\n",
    "        raise ValueError(f\"No messages found in input state to tool_edge: {state}\")\n",
    "    if hasattr(ai_message, \"tool_calls\") and len(ai_message.tool_calls) > 0:\n",
    "        return \"tools\"\n",
    "    return \"__end__\""
   ],
   "metadata": {
    "collapsed": false,
    "ExecuteTime": {
     "end_time": "2024-06-02T08:47:57.033616200Z",
     "start_time": "2024-06-02T08:47:57.026542500Z"
    }
   },
   "id": "3969d8bf415d70ad"
  },
  {
   "cell_type": "code",
   "execution_count": 11,
   "outputs": [],
   "source": [
    "# The `tools_condition` function returns \"tools\" if the chatbot asks to use a tool, and \"__end__\" if\n",
    "# it is fine directly responding. This conditional routing defines the main agent loop.\n",
    "graph_builder.add_conditional_edges(\n",
    "    \"chatbot\",\n",
    "    route_tools,\n",
    "    # The following dictionary lets you tell the graph to interpret the condition's outputs as a specific node\n",
    "    # It defaults to the identity function, but if you\n",
    "    # want to use a node named something else apart from \"tools\",\n",
    "    # You can update the value of the dictionary to something else\n",
    "    # e.g., \"tools\": \"my_tools\"\n",
    "    {\"tools\": \"tools\", \"__end__\": \"__end__\"}\n",
    ")\n",
    "\n",
    "# Any time a tool is called, we return to the chatbot to decide the next step\n",
    "graph_builder.add_edge(\"tools\", \"chatbot\")\n",
    "graph_builder.set_entry_point(\"chatbot\")\n",
    "graph = graph_builder.compile()"
   ],
   "metadata": {
    "collapsed": false,
    "ExecuteTime": {
     "end_time": "2024-06-02T08:47:57.050900Z",
     "start_time": "2024-06-02T08:47:57.032481900Z"
    }
   },
   "id": "3beab4f6e4e07918"
  },
  {
   "cell_type": "code",
   "execution_count": 12,
   "outputs": [
    {
     "data": {
      "image/jpeg": "[encoded data removed]",
      "text/plain": "<IPython.core.display.Image object>"
     },
     "metadata": {},
     "output_type": "display_data"
    }
   ],
   "source": [
    "from IPython.display import Image, display\n",
    "display(Image(graph.get_graph().draw_mermaid_png()))"
   ],
   "metadata": {
    "collapsed": false,
    "ExecuteTime": {
     "end_time": "2024-06-02T08:47:57.469366700Z",
     "start_time": "2024-06-02T08:47:57.042197900Z"
    }
   },
   "id": "77d942cb56f754b2"
  },
  {
   "cell_type": "code",
   "execution_count": 13,
   "outputs": [
    {
     "name": "stdout",
     "output_type": "stream",
     "text": [
      "Assistant: Hi there! How can I assist you today?\n",
      "Assistant: \n",
      "Assistant: [{\"url\": \"https://www.ft.com/content/088d3368-bb8b-4ff3-9df7-a7680d4d81b2\", \"content\": \"Letter in response to this report:\\nPlanetary stress will be mainstream economics / From Jennifer Barker, London SW19, UK\\nPromoted Content\\nFollow the topics in this article\\nComments\\nUseful links\\nSupport\\nLegal & Privacy\\nServices\\nTools\\nCommunity & Events\\nMore from the FT Group\\nInternational Edition\\nTop sections\\nFT recommends Cookies on FT Sites\\nWe use\\ncookies\\nand other data for a number of reasons, such as keeping FT Sites reliable and secure,\\npersonalising content and ads, providing social media features and to\\nanalyse how our Sites are used.\\n Global inflation tracker: see how your country compares on rising prices\\nValentina Romei and Alan Smith in London\\nSimply sign up to the Global inflation myFT Digest -- delivered directly to your inbox.\\n This is most likely due to being offline or JavaScript being disabled in your browser.\\n This is most likely due to being offline or JavaScript being disabled in your browser.\\n\"}]\n",
      "Assistant: I couldn't retrieve specific global inflation rates for 2023 from the available result. To get the most accurate and current global inflation rates, you might want to check trusted financial news sources or economic databases such as the International Monetary Fund (IMF) or World Bank.\n",
      "Assistant: \n",
      "Assistant: [{\"url\": \"https://www.weatherapi.com/\", \"content\": \"{'location': {'name': 'Paris', 'region': 'Ile-de-France', 'country': 'France', 'lat': 48.87, 'lon': 2.33, 'tz_id': 'Europe/Paris', 'localtime_epoch': 1717318071, 'localtime': '2024-06-02 10:47'}, 'current': {'last_updated_epoch': 1717317900, 'last_updated': '2024-06-02 10:45', 'temp_c': 13.0, 'temp_f': 55.4, 'is_day': 1, 'condition': {'text': 'Overcast', 'icon': '//cdn.weatherapi.com/weather/64x64/day/122.png', 'code': 1009}, 'wind_mph': 11.9, 'wind_kph': 19.1, 'wind_degree': 10, 'wind_dir': 'N', 'pressure_mb': 1024.0, 'pressure_in': 30.24, 'precip_mm': 0.0, 'precip_in': 0.0, 'humidity': 88, 'cloud': 100, 'feelslike_c': 11.5, 'feelslike_f': 52.7, 'windchill_c': 12.0, 'windchill_f': 53.6, 'heatindex_c': 13.4, 'heatindex_f': 56.1, 'dewpoint_c': 10.3, 'dewpoint_f': 50.6, 'vis_km': 10.0, 'vis_miles': 6.0, 'uv': 3.0, 'gust_mph': 12.6, 'gust_kph': 20.3}}\"}]\n",
      "Assistant: The weather in Paris today is overcast with a temperature of 13°C (55.4°F). The wind is coming from the north at 19.1 kph (11.9 mph). The humidity level is at 88%, and the visibility is 10 km (6 miles). The UV index is 3.\n",
      "Goodbye!\n"
     ]
    }
   ],
   "source": [
    "from langchain_core.messages import BaseMessage\n",
    "\n",
    "while True:\n",
    "    user_input = input(\"User: \")\n",
    "    if user_input.lower() in [\"quit\", \"exit\", \"q\"]:\n",
    "        print(\"Goodbye!\")\n",
    "        break\n",
    "    for event in graph.stream({\"messages\": [(\"user\", user_input)]}):\n",
    "        for value in event.values():\n",
    "            if isinstance(value[\"messages\"][-1], BaseMessage):\n",
    "                print(\"Assistant:\", value[\"messages\"][-1].content)\n"
   ],
   "metadata": {
    "collapsed": false,
    "ExecuteTime": {
     "end_time": "2024-06-02T08:48:36.318809700Z",
     "start_time": "2024-06-02T08:47:57.464887900Z"
    }
   },
   "id": "dad4edffa485fcb0"
  }
 ],
 "metadata": {
  "kernelspec": {
   "display_name": "Python 3",
   "language": "python",
   "name": "python3"
  },
  "language_info": {
   "codemirror_mode": {
    "name": "ipython",
    "version": 2
   },
   "file_extension": ".py",
   "mimetype": "text/x-python",
   "name": "python",
   "nbconvert_exporter": "python",
   "pygments_lexer": "ipython2",
   "version": "2.7.6"
  }
 },
 "nbformat": 4,
 "nbformat_minor": 5
}
