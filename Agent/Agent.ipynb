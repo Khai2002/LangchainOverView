{
 "cells": [
  {
   "cell_type": "markdown",
   "source": [
    "https://python.langchain.com/v0.2/docs/tutorials/agents/"
   ],
   "metadata": {
    "collapsed": false
   },
   "id": "7e7bc9999e46da18"
  },
  {
   "cell_type": "code",
   "execution_count": 1,
   "outputs": [
    {
     "data": {
      "text/plain": "True"
     },
     "execution_count": 1,
     "metadata": {},
     "output_type": "execute_result"
    }
   ],
   "source": [
    "from dotenv import load_dotenv\n",
    "load_dotenv()"
   ],
   "metadata": {
    "collapsed": false,
    "ExecuteTime": {
     "end_time": "2024-05-31T21:40:25.387352800Z",
     "start_time": "2024-05-31T21:40:25.360354800Z"
    }
   },
   "id": "cc91fe1d3d4dfefd"
  },
  {
   "cell_type": "code",
   "execution_count": 6,
   "id": "initial_id",
   "metadata": {
    "collapsed": true,
    "ExecuteTime": {
     "end_time": "2024-05-31T21:43:54.537611400Z",
     "start_time": "2024-05-31T21:43:53.804822600Z"
    }
   },
   "outputs": [],
   "source": [
    "# Import relevant functionality\n",
    "from langchain_openai import ChatOpenAI\n",
    "from langchain_community.tools.tavily_search import TavilySearchResults\n",
    "from langchain_core.messages import HumanMessage\n",
    "from langgraph.checkpoint.sqlite import SqliteSaver\n",
    "from langgraph.prebuilt import chat_agent_executor\n",
    "\n",
    "# Create the agent\n",
    "memory = SqliteSaver.from_conn_string(\":memory:\")\n",
    "model = ChatOpenAI(model=\"gpt-3.5-turbo\")\n",
    "search = TavilySearchResults(max_results=3)\n",
    "tools = [search]\n",
    "agent_executor = chat_agent_executor.create_tool_calling_executor(\n",
    "    model, tools, checkpointer=memory\n",
    ")\n",
    "config = {\"configurable\": {\"thread_id\": \"abc123\"}}"
   ]
  },
  {
   "cell_type": "code",
   "execution_count": 3,
   "outputs": [
    {
     "name": "stderr",
     "output_type": "stream",
     "text": [
      "Error in LangChainTracer.on_chain_end callback: AttributeError(\"'NoneType' object has no attribute 'append'\")\n"
     ]
    },
    {
     "name": "stdout",
     "output_type": "stream",
     "text": [
      "{'agent': {'messages': [AIMessage(content='Hello Bob! How can I assist you today?', response_metadata={'token_usage': {'completion_tokens': 11, 'prompt_tokens': 90, 'total_tokens': 101}, 'model_name': 'gpt-3.5-turbo', 'system_fingerprint': None, 'finish_reason': 'stop', 'logprobs': None}, id='run-a00ece33-a611-48ea-a4b9-3b84adebf81b-0', usage_metadata={'input_tokens': 90, 'output_tokens': 11, 'total_tokens': 101})]}}\n",
      "----\n"
     ]
    }
   ],
   "source": [
    "# Use the agent\n",
    "for chunk in agent_executor.stream(\n",
    "    {\"messages\": [HumanMessage(content=\"hi im bob! and i live in sf\")]}, config\n",
    "):\n",
    "    print(chunk)\n",
    "    print(\"----\")"
   ],
   "metadata": {
    "collapsed": false,
    "ExecuteTime": {
     "end_time": "2024-05-31T21:40:29.207812Z",
     "start_time": "2024-05-31T21:40:28.258030200Z"
    }
   },
   "id": "bc75c1cf9410ee0b"
  },
  {
   "cell_type": "code",
   "execution_count": 7,
   "outputs": [
    {
     "name": "stderr",
     "output_type": "stream",
     "text": [
      "Error in LangChainTracer.on_chain_end callback: AttributeError(\"'NoneType' object has no attribute 'append'\")\n"
     ]
    },
    {
     "name": "stdout",
     "output_type": "stream",
     "text": [
      "{'agent': {'messages': [AIMessage(content='', additional_kwargs={'tool_calls': [{'id': 'call_9bkD8ZkEkYAWX4P3A08KlI95', 'function': {'arguments': '{\"query\":\"How did Hisao and Emi meet in Katawa Shoujo\"}', 'name': 'tavily_search_results_json'}, 'type': 'function'}]}, response_metadata={'token_usage': {'completion_tokens': 31, 'prompt_tokens': 97, 'total_tokens': 128}, 'model_name': 'gpt-3.5-turbo', 'system_fingerprint': None, 'finish_reason': 'tool_calls', 'logprobs': None}, id='run-c471cab9-f2c0-47fe-a71b-d65111cdde73-0', tool_calls=[{'name': 'tavily_search_results_json', 'args': {'query': 'How did Hisao and Emi meet in Katawa Shoujo'}, 'id': 'call_9bkD8ZkEkYAWX4P3A08KlI95'}], usage_metadata={'input_tokens': 97, 'output_tokens': 31, 'total_tokens': 128})]}}\n",
      "----\n",
      "{'tools': {'messages': [ToolMessage(content='[{\"url\": \"https://www.reddit.com/r/katawashoujo/comments/1d09e8w/all_routes_are_completed_spoilers/\", \"content\": \"Add to that the beautiful structure of it\\'s characters and how the game plays with the dynamics of each path (Hisao is always part of a trio that always has a different dynamic or level of affection before he arrives, Rin\\'s the month difficult path while Emi\\'s the easiest one to get, on Shizune\\'s path you aren\\'t given a choice about who to ...\"}, {\"url\": \"https://www.reddit.com/r/katawashoujo/comments/1d0z777/howwhen_did_you_find_about_katawa_shoujo/\", \"content\": \"Saw a meme, which was edited on the scene Hisao first meets Emi (when she\\'s down on the ground and stuff), with Hisao having the option to say something among the lines of \\\\\"Holy shit! ... Though to be honest, i think i heard about Katawa shoujo a little earlier than that thanks to a video about the 4chan thread of Amputee-chan where they ...\"}, {\"url\": \"https://katawashoujo.fandom.com/wiki/Hisao_Nakai\", \"content\": \"Hisao Nakai (\\\\u4e2d\\\\u4e95 \\\\u4e45\\\\u592b, Nakai Hisao) is the protagonist of Katawa Shoujo. He is an 18 year old male individual that has been diagnosed with cardiac arrhythmia and congenital heart muscle deficiency. The entire story is told from his perspective, starting with his heart attack from being confessed to by Iwanako at the beginning, to adjusting ...\"}]', name='tavily_search_results_json', id='308e5e6f-78f0-4864-b47a-9d7c7d38c833', tool_call_id='call_9bkD8ZkEkYAWX4P3A08KlI95')]}}\n",
      "----\n"
     ]
    },
    {
     "name": "stderr",
     "output_type": "stream",
     "text": [
      "Error in LangChainTracer.on_chain_end callback: AttributeError(\"'NoneType' object has no attribute 'append'\")\n"
     ]
    },
    {
     "name": "stdout",
     "output_type": "stream",
     "text": [
      "{'agent': {'messages': [AIMessage(content='In Katawa Shoujo, Hisao and Emi meet when Hisao encounters Emi while she is down on the ground. This is one of the early interactions between the two characters in the game.', response_metadata={'token_usage': {'completion_tokens': 43, 'prompt_tokens': 498, 'total_tokens': 541}, 'model_name': 'gpt-3.5-turbo', 'system_fingerprint': None, 'finish_reason': 'stop', 'logprobs': None}, id='run-29fa0e67-7545-4a9e-bb44-2cd7170792d8-0', usage_metadata={'input_tokens': 498, 'output_tokens': 43, 'total_tokens': 541})]}}\n",
      "----\n"
     ]
    }
   ],
   "source": [
    "for chunk in agent_executor.stream(\n",
    "    {\"messages\": [HumanMessage(content=\"In Katawa Shoujo, how did Hisao and Emi meet?\")]}, config\n",
    "):\n",
    "    print(chunk)\n",
    "    print(\"----\")"
   ],
   "metadata": {
    "collapsed": false,
    "ExecuteTime": {
     "end_time": "2024-05-31T21:44:02.455713900Z",
     "start_time": "2024-05-31T21:43:57.751790700Z"
    }
   },
   "id": "c9d59898e70de3f5"
  },
  {
   "cell_type": "code",
   "execution_count": null,
   "outputs": [],
   "source": [],
   "metadata": {
    "collapsed": false
   },
   "id": "fd80ffbda2e0d591"
  }
 ],
 "metadata": {
  "kernelspec": {
   "display_name": "Python 3",
   "language": "python",
   "name": "python3"
  },
  "language_info": {
   "codemirror_mode": {
    "name": "ipython",
    "version": 2
   },
   "file_extension": ".py",
   "mimetype": "text/x-python",
   "name": "python",
   "nbconvert_exporter": "python",
   "pygments_lexer": "ipython2",
   "version": "2.7.6"
  }
 },
 "nbformat": 4,
 "nbformat_minor": 5
}
