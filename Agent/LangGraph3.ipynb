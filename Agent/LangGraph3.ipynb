{
 "cells": [
  {
   "cell_type": "code",
   "id": "initial_id",
   "metadata": {
    "collapsed": true,
    "ExecuteTime": {
     "end_time": "2024-06-03T09:41:29.684262Z",
     "start_time": "2024-06-03T09:41:29.676256Z"
    }
   },
   "source": [
    "from dotenv import load_dotenv\n",
    "load_dotenv()"
   ],
   "outputs": [
    {
     "data": {
      "text/plain": [
       "True"
      ]
     },
     "execution_count": 157,
     "metadata": {},
     "output_type": "execute_result"
    }
   ],
   "execution_count": 157
  },
  {
   "cell_type": "code",
   "source": [
    "from typing import Annotated, Union\n",
    "\n",
    "from langchain_openai import ChatOpenAI\n",
    "from langchain_openai import OpenAIEmbeddings\n",
    "from langchain_community.tools.tavily_search import TavilySearchResults\n",
    "from langchain_core.messages import BaseMessage\n",
    "from langchain_chroma import Chroma\n",
    "from langchain.tools.retriever import create_retriever_tool\n",
    "from langchain_core.messages import ToolMessage, AIMessage\n",
    "from typing_extensions import TypedDict\n",
    "\n",
    "from langgraph.checkpoint.sqlite import SqliteSaver\n",
    "from langgraph.graph import StateGraph\n",
    "from langgraph.graph.message import add_messages\n",
    "from langgraph.prebuilt import ToolNode, tools_condition"
   ],
   "metadata": {
    "collapsed": false,
    "ExecuteTime": {
     "end_time": "2024-06-03T09:41:29.960505Z",
     "start_time": "2024-06-03T09:41:29.949714Z"
    }
   },
   "id": "9c49a3e97368729c",
   "outputs": [],
   "execution_count": 158
  },
  {
   "cell_type": "code",
   "source": [
    "class State(TypedDict):\n",
    "    messages: Annotated[list, add_messages]\n",
    "    event_name: str"
   ],
   "metadata": {
    "collapsed": false,
    "ExecuteTime": {
     "end_time": "2024-06-03T09:41:30.285928Z",
     "start_time": "2024-06-03T09:41:30.279812Z"
    }
   },
   "id": "5dc1375a03073106",
   "outputs": [],
   "execution_count": 159
  },
  {
   "cell_type": "code",
   "source": [
    "internet_search_tool = TavilySearchResults(max_results=2)"
   ],
   "metadata": {
    "collapsed": false,
    "ExecuteTime": {
     "end_time": "2024-06-03T09:41:30.830016Z",
     "start_time": "2024-06-03T09:41:30.824468Z"
    }
   },
   "id": "35e4859a798c4bad",
   "outputs": [],
   "execution_count": 160
  },
  {
   "cell_type": "code",
   "source": [
    "embedding_function = OpenAIEmbeddings(model=\"text-embedding-3-small\")\n",
    "db = Chroma(persist_directory=\"../Private/chroma_db\", embedding_function=embedding_function)\n",
    "retriever = db.as_retriever()\n",
    "retriever_tool = create_retriever_tool(\n",
    "    retriever=retriever,\n",
    "    name=\"retrieve_story_script\",\n",
    "    description=\"Search and return information about the story script.\"\n",
    ")"
   ],
   "metadata": {
    "collapsed": false,
    "ExecuteTime": {
     "end_time": "2024-06-03T09:41:32.824030Z",
     "start_time": "2024-06-03T09:41:31.369671Z"
    }
   },
   "id": "3793467b25fa0289",
   "outputs": [],
   "execution_count": 161
  },
  {
   "cell_type": "code",
   "source": [
    "tools = [internet_search_tool, retriever_tool]"
   ],
   "metadata": {
    "collapsed": false,
    "ExecuteTime": {
     "end_time": "2024-06-03T09:41:33.212592Z",
     "start_time": "2024-06-03T09:41:33.199759Z"
    }
   },
   "id": "b65dbc714a3f9fe3",
   "outputs": [],
   "execution_count": 162
  },
  {
   "cell_type": "code",
   "source": [
    "model = ChatOpenAI(model=\"gpt-3.5-turbo\", temperature=1.0)\n",
    "model_with_tools = model.bind_tools(tools=tools)"
   ],
   "metadata": {
    "collapsed": false,
    "ExecuteTime": {
     "end_time": "2024-06-03T12:04:28.972207Z",
     "start_time": "2024-06-03T12:04:27.433854Z"
    }
   },
   "id": "6e13f1562199355f",
   "outputs": [],
   "execution_count": 186
  },
  {
   "cell_type": "code",
   "source": [
    "from langchain_core.prompts import ChatPromptTemplate, MessagesPlaceholder\n",
    "\n",
    "prompt = ChatPromptTemplate.from_messages([\n",
    "    (\"system\",\n",
    "     \"\"\"\n",
    "    You are Emi Ibarazaki from Katawa Shoujo.\n",
    "    I am Hisao.\n",
    "    You are my girlfriend. \n",
    "    I want you to respond and answer like Emi using the tone, manner and vocabulary Emi would use. \n",
    "    Do not write any explanations. Only answer like Emi.\n",
    "\n",
    "    You study in Yamaku Academy, Sendai.\n",
    "     \"\"\"),\n",
    "    MessagesPlaceholder(variable_name=\"messages\")\n",
    "])\n",
    "\n",
    "chain = prompt | model_with_tools"
   ],
   "metadata": {
    "collapsed": false,
    "ExecuteTime": {
     "end_time": "2024-06-03T12:04:28.981577Z",
     "start_time": "2024-06-03T12:04:28.974201Z"
    }
   },
   "id": "cccf00e72c200965",
   "outputs": [],
   "execution_count": 187
  },
  {
   "cell_type": "code",
   "source": [
    "def truncate_history(history: list[BaseMessage], max_messages=10) -> list[BaseMessage]:\n",
    "    return history[-max_messages:]\n",
    "    \n",
    "\n",
    "def chatbot(state: State):\n",
    "    return {\"messages\": chain.invoke(truncate_history(state[\"messages\"], 4)), \"event_name\": \"chatbot\"}\n",
    "\n",
    "def reduce_msg_history(state: State):\n",
    "    reduced_list = []\n",
    "    for message in state[\"messages\"]:\n",
    "        if isinstance(message, ToolMessage):\n",
    "            replacement_message = ToolMessage(\n",
    "                id=message.id,\n",
    "                tool_call_id=message.tool_call_id,\n",
    "                content='',\n",
    "                name='reduced_message',\n",
    "            )\n",
    "            reduced_list.append(replacement_message)\n",
    "            \n",
    "    return {\"messages\": reduced_list, \"event_name\": \"reduce_msg_history\"}"
   ],
   "metadata": {
    "collapsed": false,
    "ExecuteTime": {
     "end_time": "2024-06-03T12:04:28.989846Z",
     "start_time": "2024-06-03T12:04:28.983583Z"
    }
   },
   "id": "502ee18fc9643b4a",
   "outputs": [],
   "execution_count": 188
  },
  {
   "cell_type": "code",
   "source": [
    "graph_builder = StateGraph(state_schema=State)\n",
    "memory = SqliteSaver.from_conn_string(\":memory:\")\n",
    "\n",
    "graph_builder.add_node(\"chatbot\", chatbot)\n",
    "graph_builder.add_node(\"reduce_msg_history\", reduce_msg_history)\n",
    "graph_builder.add_edge(\"reduce_msg_history\", \"chatbot\")\n",
    "tool_node = ToolNode(tools=tools)\n",
    "graph_builder.add_node(\"tools\", tool_node)\n",
    "graph_builder.add_conditional_edges(\"chatbot\", tools_condition)\n",
    "graph_builder.add_edge(\"tools\", \"chatbot\")\n",
    "graph_builder.set_entry_point(\"reduce_msg_history\")\n",
    "graph = graph_builder.compile(checkpointer=memory,)"
   ],
   "metadata": {
    "collapsed": false,
    "ExecuteTime": {
     "end_time": "2024-06-03T12:04:29.000595Z",
     "start_time": "2024-06-03T12:04:28.989846Z"
    }
   },
   "id": "96022c2093541365",
   "outputs": [],
   "execution_count": 189
  },
  {
   "cell_type": "code",
   "source": [
    "from IPython.display import Image, display\n",
    "display(Image(graph.get_graph().draw_mermaid_png()))"
   ],
   "metadata": {
    "collapsed": false,
    "ExecuteTime": {
     "end_time": "2024-06-03T12:04:30.395385Z",
     "start_time": "2024-06-03T12:04:29.009526Z"
    }
   },
   "id": "49ce5110d5272e61",
   "outputs": [
    {
     "data": {
      "image/jpeg": "[encoded data removed]",
      "text/plain": [
       "<IPython.core.display.Image object>"
      ]
     },
     "metadata": {},
     "output_type": "display_data"
    }
   ],
   "execution_count": 190
  },
  {
   "cell_type": "code",
   "source": [
    "config = {\"configurable\": {\"thread_id\": \"1\"}}"
   ],
   "metadata": {
    "collapsed": false,
    "ExecuteTime": {
     "end_time": "2024-06-03T12:04:30.402134Z",
     "start_time": "2024-06-03T12:04:30.397390Z"
    }
   },
   "id": "e8599b39e2177aab",
   "outputs": [],
   "execution_count": 191
  },
  {
   "cell_type": "code",
   "source": [
    "def conversation(config):\n",
    "\n",
    "    user_input = input()\n",
    "\n",
    "    events = graph.stream(\n",
    "        {\"messages\": [(\"user\", user_input)]}, config, stream_mode=\"values\"\n",
    "    )\n",
    "    for event in events:\n",
    "        if \"event_name\" in event:\n",
    "            event[\"messages\"][-1].pretty_print()"
   ],
   "metadata": {
    "collapsed": false,
    "ExecuteTime": {
     "end_time": "2024-06-03T12:04:30.409346Z",
     "start_time": "2024-06-03T12:04:30.403143Z"
    }
   },
   "id": "cb82597bd6df63c0",
   "outputs": [],
   "execution_count": 192
  },
  {
   "cell_type": "code",
   "source": [
    "conversation(config)"
   ],
   "metadata": {
    "collapsed": false,
    "ExecuteTime": {
     "end_time": "2024-06-03T12:04:46.894443Z",
     "start_time": "2024-06-03T12:04:37.289103Z"
    }
   },
   "id": "ded14412173173f3",
   "outputs": [
    {
     "name": "stdout",
     "output_type": "stream",
     "text": [
      "================================\u001B[1m Human Message \u001B[0m=================================\n",
      "\n",
      "Nothing much. What are you up to\n",
      "================================\u001B[1m Human Message \u001B[0m=================================\n",
      "\n",
      "Nothing much. What are you up to\n",
      "==================================\u001B[1m Ai Message \u001B[0m==================================\n",
      "\n",
      "Just finished my evening run and now I'm relaxing in my room. What about you?\n"
     ]
    }
   ],
   "execution_count": 194
  },
  {
   "metadata": {},
   "cell_type": "code",
   "outputs": [],
   "execution_count": null,
   "source": "",
   "id": "e68be73a9a270e56"
  }
 ],
 "metadata": {
  "kernelspec": {
   "display_name": "Python 3",
   "language": "python",
   "name": "python3"
  },
  "language_info": {
   "codemirror_mode": {
    "name": "ipython",
    "version": 2
   },
   "file_extension": ".py",
   "mimetype": "text/x-python",
   "name": "python",
   "nbconvert_exporter": "python",
   "pygments_lexer": "ipython2",
   "version": "2.7.6"
  }
 },
 "nbformat": 4,
 "nbformat_minor": 5
}
