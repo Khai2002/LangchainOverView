{
 "cells": [
  {
   "cell_type": "code",
   "execution_count": 1,
   "id": "initial_id",
   "metadata": {
    "collapsed": true,
    "ExecuteTime": {
     "end_time": "2024-04-30T08:16:46.023966900Z",
     "start_time": "2024-04-30T08:16:43.919763900Z"
    }
   },
   "outputs": [
    {
     "data": {
      "text/plain": "True"
     },
     "execution_count": 1,
     "metadata": {},
     "output_type": "execute_result"
    }
   ],
   "source": [
    "from dotenv import load_dotenv\n",
    "from langchain_openai import ChatOpenAI\n",
    "from langchain_core.output_parsers import StrOutputParser\n",
    "from langchain_core.prompts import ChatPromptTemplate\n",
    "\n",
    "load_dotenv()"
   ]
  },
  {
   "cell_type": "code",
   "execution_count": 2,
   "outputs": [],
   "source": [
    "model = ChatOpenAI(model=\"gpt-3.5-turbo-0125\")"
   ],
   "metadata": {
    "collapsed": false,
    "ExecuteTime": {
     "end_time": "2024-04-30T08:16:46.869666Z",
     "start_time": "2024-04-30T08:16:46.022897800Z"
    }
   },
   "id": "7f9c99a44a292949"
  },
  {
   "cell_type": "code",
   "execution_count": 3,
   "outputs": [
    {
     "name": "stdout",
     "output_type": "stream",
     "text": [
      "<class 'str'>\n",
      "During the Middle Ages, the bubonic plague, also known as the Black Death, wiped out an estimated 25 million people in Europe, which was around one-third of the continent's population at the time.\n"
     ]
    }
   ],
   "source": [
    "prompt = ChatPromptTemplate.from_template(\"tell me a fun fact about {topic}\")\n",
    "output_parser = StrOutputParser()\n",
    "\n",
    "chain = prompt | model | output_parser\n",
    "\n",
    "res = chain.invoke({\"topic\": \"bubonic plague\"})\n",
    "print(type(res))\n",
    "print(res)"
   ],
   "metadata": {
    "collapsed": false,
    "ExecuteTime": {
     "end_time": "2024-04-30T08:16:48.307856800Z",
     "start_time": "2024-04-30T08:16:46.864092500Z"
    }
   },
   "id": "e23d3210162fb1c6"
  },
  {
   "cell_type": "markdown",
   "source": [
    "### Invoke single component"
   ],
   "metadata": {
    "collapsed": false
   },
   "id": "6d02f45eb381788e"
  },
  {
   "cell_type": "code",
   "execution_count": 5,
   "outputs": [
    {
     "name": "stdout",
     "output_type": "stream",
     "text": [
      "<class 'langchain_core.prompt_values.ChatPromptValue'>\n",
      "messages=[HumanMessage(content='tell me a fun fact about bubonic plague')]\n"
     ]
    }
   ],
   "source": [
    "# Prompt\n",
    "prompt_value = prompt.invoke({\n",
    "    \"topic\": \"bubonic plague\"\n",
    "})\n",
    "print(type(prompt_value))\n",
    "print(prompt_value)"
   ],
   "metadata": {
    "collapsed": false,
    "ExecuteTime": {
     "end_time": "2024-04-30T08:17:30.828898900Z",
     "start_time": "2024-04-30T08:17:30.815403Z"
    }
   },
   "id": "7127cdec2a3ddb51"
  },
  {
   "cell_type": "code",
   "execution_count": 7,
   "outputs": [
    {
     "name": "stdout",
     "output_type": "stream",
     "text": [
      "<class 'langchain_core.messages.ai.AIMessage'>\n",
      "content=\"During the bubonic plague outbreak in the 14th century, it is estimated that it wiped out approximately 50 million people in Europe, which was about 60% of the continent's population at that time.\" response_metadata={'token_usage': {'completion_tokens': 43, 'prompt_tokens': 16, 'total_tokens': 59}, 'model_name': 'gpt-3.5-turbo-0125', 'system_fingerprint': 'fp_3b956da36b', 'finish_reason': 'stop', 'logprobs': None}\n"
     ]
    }
   ],
   "source": [
    "# Model\n",
    "ai_message = model.invoke(prompt_value)\n",
    "print(type(ai_message))\n",
    "print(ai_message)"
   ],
   "metadata": {
    "collapsed": false,
    "ExecuteTime": {
     "end_time": "2024-04-30T08:18:32.069462700Z",
     "start_time": "2024-04-30T08:18:30.556230700Z"
    }
   },
   "id": "d86f32eafee642da"
  },
  {
   "cell_type": "code",
   "execution_count": 9,
   "outputs": [
    {
     "name": "stdout",
     "output_type": "stream",
     "text": [
      "<class 'str'>\n",
      "During the bubonic plague outbreak in the 14th century, it is estimated that it wiped out approximately 50 million people in Europe, which was about 60% of the continent's population at that time.\n"
     ]
    }
   ],
   "source": [
    "# Output Parser\n",
    "output_string = output_parser.invoke(ai_message)\n",
    "print(type(output_string))\n",
    "print(output_string)"
   ],
   "metadata": {
    "collapsed": false,
    "ExecuteTime": {
     "end_time": "2024-04-30T08:19:49.441856500Z",
     "start_time": "2024-04-30T08:19:49.430430100Z"
    }
   },
   "id": "5f37fb4e8f50c30"
  },
  {
   "cell_type": "code",
   "execution_count": null,
   "outputs": [],
   "source": [],
   "metadata": {
    "collapsed": false
   },
   "id": "c4542bae976f4257"
  }
 ],
 "metadata": {
  "kernelspec": {
   "display_name": "Python 3",
   "language": "python",
   "name": "python3"
  },
  "language_info": {
   "codemirror_mode": {
    "name": "ipython",
    "version": 2
   },
   "file_extension": ".py",
   "mimetype": "text/x-python",
   "name": "python",
   "nbconvert_exporter": "python",
   "pygments_lexer": "ipython2",
   "version": "2.7.6"
  }
 },
 "nbformat": 4,
 "nbformat_minor": 5
}
