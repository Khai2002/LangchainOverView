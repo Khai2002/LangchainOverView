{
 "cells": [
  {
   "cell_type": "code",
   "execution_count": 54,
   "outputs": [
    {
     "data": {
      "text/plain": "True"
     },
     "execution_count": 54,
     "metadata": {},
     "output_type": "execute_result"
    }
   ],
   "source": [
    "from dotenv import load_dotenv\n",
    "load_dotenv()"
   ],
   "metadata": {
    "collapsed": false,
    "ExecuteTime": {
     "end_time": "2024-06-04T12:01:18.278740100Z",
     "start_time": "2024-06-04T12:01:18.221077500Z"
    }
   },
   "id": "d54e1b93ca2a1caf"
  },
  {
   "cell_type": "code",
   "execution_count": 55,
   "id": "initial_id",
   "metadata": {
    "collapsed": true,
    "ExecuteTime": {
     "end_time": "2024-06-04T12:01:18.343846300Z",
     "start_time": "2024-06-04T12:01:18.299741600Z"
    }
   },
   "outputs": [],
   "source": [
    "from langchain_community.tools.tavily_search import TavilySearchResults\n",
    "\n",
    "tools = [TavilySearchResults(max_results=2)]"
   ]
  },
  {
   "cell_type": "code",
   "execution_count": 56,
   "outputs": [],
   "source": [
    "from langchain import hub\n",
    "from langchain_openai import ChatOpenAI\n",
    "from langgraph.prebuilt import create_react_agent"
   ],
   "metadata": {
    "collapsed": false,
    "ExecuteTime": {
     "end_time": "2024-06-04T12:01:18.529721Z",
     "start_time": "2024-06-04T12:01:18.471712700Z"
    }
   },
   "id": "3b9e0f93c28c34d0"
  },
  {
   "cell_type": "code",
   "execution_count": 57,
   "outputs": [],
   "source": [
    "model = \"gpt-3.5-turbo\""
   ],
   "metadata": {
    "collapsed": false,
    "ExecuteTime": {
     "end_time": "2024-06-04T12:01:19.157291100Z",
     "start_time": "2024-06-04T12:01:19.126832400Z"
    }
   },
   "id": "fd364073615e0ab"
  },
  {
   "cell_type": "code",
   "execution_count": 58,
   "outputs": [
    {
     "name": "stdout",
     "output_type": "stream",
     "text": [
      "================================\u001B[1m System Message \u001B[0m================================\n",
      "\n",
      "You are a helpful assistant.\n",
      "\n",
      "=============================\u001B[1m Messages Placeholder \u001B[0m=============================\n",
      "\n",
      "\u001B[33;1m\u001B[1;3m{{messages}}\u001B[0m\n"
     ]
    }
   ],
   "source": [
    "prompt = hub.pull(\"wfh/react-agent-executor\")\n",
    "prompt.pretty_print()"
   ],
   "metadata": {
    "collapsed": false,
    "ExecuteTime": {
     "end_time": "2024-06-04T12:01:22.768310900Z",
     "start_time": "2024-06-04T12:01:21.124942200Z"
    }
   },
   "id": "98da7764074adba0"
  },
  {
   "cell_type": "code",
   "execution_count": 59,
   "outputs": [],
   "source": [
    "llm = ChatOpenAI(model=model)"
   ],
   "metadata": {
    "collapsed": false,
    "ExecuteTime": {
     "end_time": "2024-06-04T12:01:31.362813500Z",
     "start_time": "2024-06-04T12:01:30.172645600Z"
    }
   },
   "id": "6841eb945ade75e3"
  },
  {
   "cell_type": "code",
   "execution_count": 60,
   "outputs": [],
   "source": [
    "agent_executor = create_react_agent(llm, tools, messages_modifier=prompt)"
   ],
   "metadata": {
    "collapsed": false,
    "ExecuteTime": {
     "end_time": "2024-06-04T12:01:31.411115200Z",
     "start_time": "2024-06-04T12:01:31.368840600Z"
    }
   },
   "id": "b144860fcfb1f5ab"
  },
  {
   "cell_type": "markdown",
   "source": [
    "# Plan"
   ],
   "metadata": {
    "collapsed": false
   },
   "id": "d699d03d7e3c352b"
  },
  {
   "cell_type": "code",
   "execution_count": 61,
   "outputs": [],
   "source": [
    "from typing import List, Tuple, Annotated, TypedDict\n",
    "import operator\n",
    "\n",
    "class PlanExecute(TypedDict):\n",
    "    input: str\n",
    "    plan: List[str]\n",
    "    past_steps: Annotated[List[Tuple], operator.add]\n",
    "    response: str"
   ],
   "metadata": {
    "collapsed": false,
    "ExecuteTime": {
     "end_time": "2024-06-04T12:01:33.313973100Z",
     "start_time": "2024-06-04T12:01:33.298399400Z"
    }
   },
   "id": "961718bb40aaeb1b"
  },
  {
   "cell_type": "code",
   "execution_count": 62,
   "outputs": [],
   "source": [
    "from langchain_core.pydantic_v1 import BaseModel, Field\n",
    "\n",
    "class Plan(BaseModel):\n",
    "    \"\"\"Plan to follow in the future\"\"\"\n",
    "    \n",
    "    steps: List[str] = Field(\n",
    "        description=\"different steps to follow, should be in sorted order\"\n",
    "    )"
   ],
   "metadata": {
    "collapsed": false,
    "ExecuteTime": {
     "end_time": "2024-06-04T12:01:35.590701300Z",
     "start_time": "2024-06-04T12:01:35.574110300Z"
    }
   },
   "id": "a9d16ac1b95b8308"
  },
  {
   "cell_type": "code",
   "execution_count": 63,
   "outputs": [],
   "source": [
    "from langchain_core.prompts import ChatPromptTemplate, MessagesPlaceholder\n",
    "from langchain_core.messages import SystemMessage\n",
    "\n",
    "planner_prompt = ChatPromptTemplate.from_messages(\n",
    "    [\n",
    "        SystemMessage(content=\"\"\"\n",
    "            For the given objective, come up with a simple step by step plan. \\\n",
    "            This plan should involve individual tasks, that if executed correctly will yield the correct answer. Do not add any superfluous steps. \\\n",
    "            The result of the final step should be the final answer. Make sure that each step has all the information needed - do not skip steps. \n",
    "        \"\"\"),\n",
    "        MessagesPlaceholder(variable_name=\"messages\")\n",
    "    ]\n",
    ")"
   ],
   "metadata": {
    "collapsed": false,
    "ExecuteTime": {
     "end_time": "2024-06-04T12:01:37.258210800Z",
     "start_time": "2024-06-04T12:01:37.240484700Z"
    }
   },
   "id": "57f810a1f65cb877"
  },
  {
   "cell_type": "code",
   "execution_count": 66,
   "outputs": [],
   "source": [
    "planner_model = ChatOpenAI(\n",
    "    model=\"gpt-4o\",\n",
    "    temperature=0\n",
    ").with_structured_output(Plan)\n",
    "\n",
    "planner = planner_prompt | planner_model"
   ],
   "metadata": {
    "collapsed": false,
    "ExecuteTime": {
     "end_time": "2024-06-04T12:02:20.724269300Z",
     "start_time": "2024-06-04T12:02:19.739737100Z"
    }
   },
   "id": "85ed368603b74ca9"
  },
  {
   "cell_type": "code",
   "execution_count": 67,
   "outputs": [
    {
     "data": {
      "text/plain": "Plan(steps=['Identify the scene where Emi bumps into someone in Katawa Shoujo.', 'Determine the character Emi bumps into in that scene.'])"
     },
     "execution_count": 67,
     "metadata": {},
     "output_type": "execute_result"
    }
   ],
   "source": [
    "planner.invoke(\n",
    "    { \n",
    "        \"messages\": [\n",
    "            (\"user\", \"who did Emi bumped into in Katawa Shoujo\")\n",
    "        ]\n",
    "    }\n",
    ")"
   ],
   "metadata": {
    "collapsed": false,
    "ExecuteTime": {
     "end_time": "2024-06-04T12:02:23.219878800Z",
     "start_time": "2024-06-04T12:02:21.668184300Z"
    }
   },
   "id": "9e6f3ff293d0049d"
  },
  {
   "cell_type": "markdown",
   "source": [
    "# Replan"
   ],
   "metadata": {
    "collapsed": false
   },
   "id": "8fba7ab48128eb99"
  },
  {
   "cell_type": "code",
   "execution_count": 68,
   "outputs": [],
   "source": [
    "from typing import Union\n",
    "\n",
    "class Response(BaseModel):\n",
    "    \"\"\"Response to user\"\"\"\n",
    "    response: str\n",
    "    \n",
    "class Act(BaseModel):\n",
    "    \"\"\"Action to perform\"\"\"\n",
    "    action: Union[Response, Plan] = Field(\n",
    "        description=\"\"\"\n",
    "        Action to perform. If you want to respond to user, use Response. \\\n",
    "        If you need to further use tools to get the answer, use Plan.\n",
    "        \"\"\"\n",
    "    )"
   ],
   "metadata": {
    "collapsed": false,
    "ExecuteTime": {
     "end_time": "2024-06-04T12:02:27.259410800Z",
     "start_time": "2024-06-04T12:02:27.243131Z"
    }
   },
   "id": "f4823afc42d8194e"
  },
  {
   "cell_type": "code",
   "execution_count": 69,
   "outputs": [],
   "source": [
    "replanner_prompt = ChatPromptTemplate.from_template(\n",
    "    \"\"\"\n",
    "        For the given objective, come up with a simple step by step plan. \\\n",
    "    This plan should involve individual tasks, that if executed correctly will yield the correct answer. Do not add any superfluous steps. \\\n",
    "    The result of the final step should be the final answer. Make sure that each step has all the information needed - do not skip steps.\n",
    "    \n",
    "    Your objective was this:\n",
    "    {input}\n",
    "    \n",
    "    Your original plan was this:\n",
    "    {plan}\n",
    "    \n",
    "    You have currently done the follow steps:\n",
    "    {past_steps}\n",
    "    \n",
    "    Update your plan accordingly. If no more steps are needed and you can return to the user, then respond with that. Otherwise, fill out the plan. Only add steps to the plan that still NEED to be done. Do not return previously done steps as part of the plan.\n",
    "    \"\"\"\n",
    ")"
   ],
   "metadata": {
    "collapsed": false,
    "ExecuteTime": {
     "end_time": "2024-06-04T12:02:28.711503500Z",
     "start_time": "2024-06-04T12:02:28.680981500Z"
    }
   },
   "id": "59a08581e18129c5"
  },
  {
   "cell_type": "code",
   "execution_count": 75,
   "outputs": [],
   "source": [
    "replanner_model = ChatOpenAI(model=\"gpt-4o\", temperature=0).with_structured_output(Act)\n",
    "replanner = replanner_prompt | replanner_model"
   ],
   "metadata": {
    "collapsed": false,
    "ExecuteTime": {
     "end_time": "2024-06-04T12:23:35.542613400Z",
     "start_time": "2024-06-04T12:23:34.423201200Z"
    }
   },
   "id": "8ec785eafca703c1"
  },
  {
   "cell_type": "code",
   "execution_count": 76,
   "outputs": [],
   "source": [
    "from typing import Literal\n",
    "\n",
    "async def execute_step(state: PlanExecute):\n",
    "    plan = state[\"plan\"]\n",
    "    plan_str = \"\\n\".join(f\"{i+1}. {step}\" for i, step in enumerate(plan))\n",
    "    task = plan[0]\n",
    "    task_formatted = f\"\"\"For the following plan:\n",
    "{plan_str}\\n\\nYou are tasked with executing step {1}, {task}.\"\"\"\n",
    "    agent_response = await agent_executor.ainvoke(\n",
    "        {\"messages\": [(\"user\", task_formatted)]}\n",
    "    )\n",
    "    return {\n",
    "        \"past_steps\": (task, agent_response[\"messages\"][-1].content),\n",
    "    }\n",
    "\n",
    "\n",
    "async def plan_step(state: PlanExecute):\n",
    "    plan = await planner.ainvoke({\"messages\": [(\"user\", state[\"input\"])]})\n",
    "    return {\"plan\": plan.steps}\n",
    "\n",
    "\n",
    "async def replan_step(state: PlanExecute):\n",
    "    output = await replanner.ainvoke(state)\n",
    "    if isinstance(output.action, Response):\n",
    "        return {\"response\": output.action.response}\n",
    "    else:\n",
    "        return {\"plan\": output.action.steps}\n",
    "\n",
    "\n",
    "def should_end(state: PlanExecute) -> Literal[\"agent\", \"__end__\"]:\n",
    "    if \"response\" in state and state[\"response\"]:\n",
    "        return \"__end__\"\n",
    "    else:\n",
    "        return \"agent\""
   ],
   "metadata": {
    "collapsed": false,
    "ExecuteTime": {
     "end_time": "2024-06-04T12:23:37.107164Z",
     "start_time": "2024-06-04T12:23:37.072221Z"
    }
   },
   "id": "4b113844bdafc102"
  },
  {
   "cell_type": "code",
   "execution_count": 77,
   "outputs": [],
   "source": [
    "from langgraph.graph import StateGraph\n",
    "\n",
    "workflow = StateGraph(PlanExecute)\n",
    "\n",
    "workflow.add_node(\"planner\", plan_step)\n",
    "workflow.add_node(\"agent\", execute_step)\n",
    "workflow.add_node(\"replan\", replan_step)\n",
    "\n",
    "workflow.set_entry_point(\"planner\")\n",
    "\n",
    "workflow.add_edge(\"planner\", \"agent\")\n",
    "workflow.add_edge(\"agent\", \"replan\")\n",
    "workflow.add_conditional_edges(\n",
    "    \"replan\",\n",
    "    should_end\n",
    ")\n",
    "\n",
    "app = workflow.compile()"
   ],
   "metadata": {
    "collapsed": false,
    "ExecuteTime": {
     "end_time": "2024-06-04T12:23:37.761233100Z",
     "start_time": "2024-06-04T12:23:37.737505300Z"
    }
   },
   "id": "ea5f2231f2454b64"
  },
  {
   "cell_type": "code",
   "execution_count": 78,
   "outputs": [
    {
     "data": {
      "image/jpeg": "[encoded data removed]",
      "text/plain": "<IPython.core.display.Image object>"
     },
     "metadata": {},
     "output_type": "display_data"
    }
   ],
   "source": [
    "from IPython.display import Image, display\n",
    "\n",
    "display(Image(app.get_graph(xray=True).draw_mermaid_png()))"
   ],
   "metadata": {
    "collapsed": false,
    "ExecuteTime": {
     "end_time": "2024-06-04T12:23:39.717621600Z",
     "start_time": "2024-06-04T12:23:38.440876300Z"
    }
   },
   "id": "32dbeb2fe59ba4f1"
  },
  {
   "cell_type": "code",
   "execution_count": 79,
   "outputs": [
    {
     "name": "stdout",
     "output_type": "stream",
     "text": [
      "{'plan': ['Identify the capital of Japan.', 'Research the highest tower located in the capital of Japan.', 'Verify the height and name of the tower to ensure it is the highest.']}\n"
     ]
    },
    {
     "name": "stderr",
     "output_type": "stream",
     "text": [
      "Error in LangChainTracer.on_chain_end callback: AttributeError(\"'NoneType' object has no attribute 'append'\")\n",
      "Error in LangChainTracer.on_chain_end callback: AttributeError(\"'NoneType' object has no attribute 'append'\")\n"
     ]
    },
    {
     "name": "stdout",
     "output_type": "stream",
     "text": [
      "{'past_steps': ('Identify the capital of Japan.', 'The capital of Japan is Tokyo. It was designated as the capital and is the largest metropolis in Japan.')}\n",
      "{'plan': ['Research the highest tower located in Tokyo, Japan.', 'Verify the height and name of the tower to ensure it is the highest.']}\n"
     ]
    },
    {
     "name": "stderr",
     "output_type": "stream",
     "text": [
      "Error in LangChainTracer.on_chain_end callback: AttributeError(\"'NoneType' object has no attribute 'append'\")\n",
      "Error in LangChainTracer.on_chain_end callback: AttributeError(\"'NoneType' object has no attribute 'append'\")\n"
     ]
    },
    {
     "name": "stdout",
     "output_type": "stream",
     "text": [
      "{'past_steps': ('Research the highest tower located in Tokyo, Japan.', 'The highest tower located in Tokyo, Japan is the Tokyo Skytree. It stands at a height of 634 meters (2,080 feet) and was completed in 2012. It is the tallest tower in the world and the tallest structure in Japan.')}\n",
      "{'response': 'The highest tower in the capital of Japan, Tokyo, is the Tokyo Skytree. It stands at a height of 634 meters (2,080 feet) and was completed in 2012.'}\n"
     ]
    }
   ],
   "source": [
    "config = {\"recursion_limit\": 10}\n",
    "inputs = {\"input\": \"what is the highest tower in the capital of japan?\"}\n",
    "async for event in app.astream(inputs, config=config):\n",
    "    for k, v in event.items():\n",
    "        if k != \"__end__\":\n",
    "            print(v)"
   ],
   "metadata": {
    "collapsed": false,
    "ExecuteTime": {
     "end_time": "2024-06-04T12:25:28.831842900Z",
     "start_time": "2024-06-04T12:25:15.420733100Z"
    }
   },
   "id": "a2547a3cbe0ecf0c"
  },
  {
   "cell_type": "code",
   "execution_count": null,
   "outputs": [],
   "source": [],
   "metadata": {
    "collapsed": false
   },
   "id": "7b841f35123bd975"
  }
 ],
 "metadata": {
  "kernelspec": {
   "display_name": "Python 3",
   "language": "python",
   "name": "python3"
  },
  "language_info": {
   "codemirror_mode": {
    "name": "ipython",
    "version": 2
   },
   "file_extension": ".py",
   "mimetype": "text/x-python",
   "name": "python",
   "nbconvert_exporter": "python",
   "pygments_lexer": "ipython2",
   "version": "2.7.6"
  }
 },
 "nbformat": 4,
 "nbformat_minor": 5
}
